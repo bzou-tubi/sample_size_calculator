{
 "cells": [
  {
   "cell_type": "markdown",
   "metadata": {},
   "source": [
    "# Sample Size Calculator"
   ]
  },
  {
   "cell_type": "markdown",
   "metadata": {},
   "source": [
    "How to use: https://tubitv.atlassian.net/wiki/spaces/DST/pages/2045116757/TDR+Sample+Size+Calculator"
   ]
  },
  {
   "cell_type": "markdown",
   "metadata": {},
   "source": [
    "## Specify your settings"
   ]
  },
  {
   "cell_type": "code",
   "execution_count": 1,
   "metadata": {},
   "outputs": [],
   "source": [
    "import tubi_data_runtime as tdr\n",
    "import math\n",
    "import pandas as pd\n",
    "import numpy as np\n",
    "from datetime import date\n",
    "\n",
    "import ipywidgets as widgets\n",
    "from ipywidgets import interact, interactive, fixed, interact_manual, SelectMultiple, Button, Output, Dropdown, Accordion, Tab, HBox, VBox, Layout\n",
    "from IPython.display import clear_output, display as ipy_display\n",
    "from traitlets import traitlets\n",
    "\n",
    "import warnings\n",
    "from statsmodels.tools.sm_exceptions import ConvergenceWarning\n",
    "warnings.simplefilter('ignore', ConvergenceWarning)\n",
    "\n",
    "from ssc_utils.filter_generator import filter_generator\n",
    "from ssc_utils.raw_user_data import raw_user_data\n",
    "from ssc_utils.metric_switcher import metric_switcher\n",
    "from ssc_utils.metric_summary import metric_summary\n",
    "from ssc_utils.cuped import cuped\n",
    "import ssc_utils.calculator as c\n",
    "\n",
    "# load choices\n",
    "event_name_choices = filter_generator().event_name_choices()\n",
    "filter_metrics_choices = filter_generator().filter_metrics_choices()"
   ]
  },
  {
   "cell_type": "code",
   "execution_count": 2,
   "metadata": {},
   "outputs": [],
   "source": [
    "EFFECT_SIZE_RELATIVE = interactive(c.effect, effect=(0.0,1.0,0.0001))\n",
    "NUMBER_VARIATIONS = interactive(c.treatments, treatments=(0,8,1))\n",
    "ALLOCATION = interactive(c.allocation, allocation=(0.0,1.0,0.01))\n",
    "POWER = interactive(c.power, power=(0.0,1.0,0.01))\n",
    "ALPHA = interactive(c.alpha, alpha=(0.0,1.0,0.01))\n",
    "\n",
    "primary_metric = interactive(metric_switcher().choose_metric, metric = metric_switcher().possible_metrics())\n",
    "\n",
    "attribute_filter = interactive(filter_generator().make_sql_condition_string, \n",
    "                                   field = filter_generator().filter_attributes_choices(), \n",
    "                                   condition = filter_generator().condition_choices(), \n",
    "                                   value = '', \n",
    "                                   filter_type = fixed('attribute'))\n",
    "\n",
    "metric_filter = interactive(filter_generator().make_sql_condition_string, \n",
    "                                field = filter_metrics_choices, \n",
    "                                condition = filter_generator().condition_choices(), \n",
    "                                value = '', \n",
    "                                filter_type = fixed('metric'))\n",
    "\n",
    "\n",
    "primary_event = SelectMultiple(\n",
    "    options = event_name_choices,\n",
    "    value = ('no event filter',), \n",
    "    description='event'\n",
    "#     disabled=False\n",
    ")\n",
    "\n",
    "primary_event_sub_cond = interactive(filter_generator().make_sql_condition_string, \n",
    "                              field = filter_generator().event_sub_cond_field_choices(), \n",
    "                              condition = filter_generator().condition_choices(), \n",
    "                              value = '', \n",
    "                              filter_type = fixed('event'))\n",
    "\n",
    "\n",
    "pre_event = SelectMultiple(\n",
    "    options = event_name_choices,\n",
    "    value = ('no event filter',), \n",
    "    description='event',\n",
    "    disabled=False\n",
    ")\n",
    "\n",
    "pre_event_sub_cond = interactive(filter_generator().make_sql_condition_string, \n",
    "                              field = filter_generator().event_sub_cond_field_choices(), \n",
    "                              condition = filter_generator().condition_choices(), \n",
    "                              value = '', \n",
    "                              filter_type = fixed('event'))\n",
    "\n",
    "\n",
    "time_interval = interactive(filter_generator().interval, interval = 'NULL')"
   ]
  },
  {
   "cell_type": "code",
   "execution_count": 3,
   "metadata": {},
   "outputs": [
    {
     "data": {
      "application/vnd.jupyter.widget-view+json": {
       "model_id": "17928f399c5a49458cb5aaf00ea40dfc",
       "version_major": 2,
       "version_minor": 0
      },
      "text/plain": [
       "Tab(children=(VBox(children=(interactive(children=(FloatSlider(value=0.01, description='effect', max=1.0, step…"
      ]
     },
     "metadata": {},
     "output_type": "display_data"
    }
   ],
   "source": [
    "parameters = VBox([EFFECT_SIZE_RELATIVE, NUMBER_VARIATIONS, ALLOCATION, POWER, ALPHA, primary_metric])\n",
    "\n",
    "filter_accordion = Accordion([attribute_filter, metric_filter])\n",
    "filter_accordion_titles = ['attribute', 'metric']\n",
    "for i in range(0,len(filter_accordion_titles)):\n",
    "    filter_accordion.set_title(i, filter_accordion_titles[i])\n",
    "\n",
    "primary_event_set = VBox([primary_event, primary_event_sub_cond])\n",
    "pre_event_set = VBox([pre_event, pre_event_sub_cond, time_interval])\n",
    "\n",
    "event_filter_accordion = Accordion([primary_event_set, pre_event_set])\n",
    "event_filter_accordion_titles = ['primary event','pre event']\n",
    "for i in range(0,len(event_filter_accordion_titles)):\n",
    "    event_filter_accordion.set_title(i, event_filter_accordion_titles[i])    \n",
    "\n",
    "list_widgets  = [\n",
    "    parameters,\n",
    "    filter_accordion,\n",
    "    event_filter_accordion   \n",
    "]\n",
    "\n",
    "tab = Tab(children = list_widgets)\n",
    "\n",
    "titles = ['parameters','filters','event filters']\n",
    "for i in range(0,len(titles)):\n",
    "    tab.set_title(i, titles[i])\n",
    "tab"
   ]
  },
  {
   "cell_type": "code",
   "execution_count": 20,
   "metadata": {},
   "outputs": [],
   "source": [
    "def concat_3child_filters(filt):\n",
    "    if filt.children[0].value != 'no filters':\n",
    "        return filt.children[0].value + ' ' + filt.children[1].value + ' ' + filt.children[2].value\n",
    "    else: \n",
    "        return \n",
    "\n",
    "    \n",
    "filter_output = Output()\n",
    "show_filter_button = Button(description=\"Show all filters\", layout=Layout(width='200px'))\n",
    "ipy_display()\n",
    "\n",
    "def print_filters_on_button_clicked(b):\n",
    "    filter_output.clear_output(wait = True)\n",
    "    with filter_output:\n",
    "        print('parameters selected:') \n",
    "        print('\\t effect size', EFFECT_SIZE_RELATIVE.result)\n",
    "        print('\\t number of variations', NUMBER_VARIATIONS.result)\n",
    "        print('\\t allocation', ALLOCATION.result)\n",
    "        print('\\t power', POWER.result)\n",
    "        print('\\t alpha', ALPHA.result)\n",
    "\n",
    "        print()\n",
    "        print('metric selected:', primary_metric.result) \n",
    "\n",
    "        print()\n",
    "        print('filters selected:')\n",
    "        print('\\t', concat_3child_filters(attribute_filter))\n",
    "        print('\\t', concat_3child_filters(metric_filter))\n",
    "\n",
    "        print()\n",
    "        print('event filters selected:')\n",
    "        if primary_event.value[0] != 'no event filter': \n",
    "            print('\\t', 'primary event:', primary_event.value[0], ';', concat_3child_filters(primary_event_sub_cond))\n",
    "        else: print('\\t', None)\n",
    "        if pre_event.value[0] != 'no event filter': \n",
    "            print('\\t', 'pre event:', pre_event.value[0], ';', concat_3child_filters(pre_event_sub_cond), )\n",
    "            if time_interval.children[0].value != 'NULL':\n",
    "                print('time interval between events:', time_interval.children[0].value)"
   ]
  },
  {
   "cell_type": "code",
   "execution_count": 21,
   "metadata": {
    "scrolled": true
   },
   "outputs": [],
   "source": [
    "apply_output = Output()\n",
    "apply_button = Button(description=\"Apply filters\", layout=Layout(width='200px'))\n",
    "\n",
    "def apply_on_button_clicked(b):\n",
    "    global FINAL_SQL\n",
    "    filters_sql = filter_generator().generate_filter_cte(attribute_condition_interact = attribute_filter, \n",
    "                                                         metric_condition_interact = metric_filter, \n",
    "                                                         event1_condition_interact = pre_event, \n",
    "                                                         event1_sub_condition_interact = pre_event_sub_cond, \n",
    "                                                         event2_condition_interact = primary_event, \n",
    "                                                         event2_sub_condition_interact = primary_event_sub_cond, \n",
    "                                                         event_time_interval_interact = time_interval)\n",
    "    raw_user_sql = raw_user_data().generate_raw_user_data_cte(prev_cte_sql = filters_sql)\n",
    "    user_sql = metric_switcher().generate_user_data_cte(primary_metric.result) \n",
    "    summary_sql = metric_summary().generate_metric_summary_cte() \n",
    "    cuped_sql = cuped().generate_cuped_cte(event2_condition_interact = primary_event)\n",
    "\n",
    "    FINAL_SQL =  filters_sql + raw_user_sql + user_sql + summary_sql + cuped_sql\n",
    "    \n",
    "ipy_display(apply_button, apply_output)\n",
    "apply_button.on_click(apply_on_button_clicked)"
   ]
  },
  {
   "cell_type": "markdown",
   "metadata": {},
   "source": [
    "## Results"
   ]
  },
  {
   "cell_type": "code",
   "execution_count": 22,
   "metadata": {},
   "outputs": [],
   "source": [
    "output = Output()\n",
    "run_button = Button(description=\"Calculate sample size\", layout=Layout(width='200px'))\n",
    "\n",
    "def run_on_button_clicked(b):\n",
    "    output.clear_output(wait = True)\n",
    "    with output:\n",
    "        print(\"Running...estimated time: ~5 min\")\n",
    "        raw_df = tdr.query_redshift(FINAL_SQL).to_df()\n",
    "\n",
    "        final_df = c.calculate_sample_required(df = raw_df, \n",
    "                                               effect_size_relative = EFFECT_SIZE_RELATIVE, \n",
    "                                               number_variations = NUMBER_VARIATIONS, \n",
    "                                               allocation = ALLOCATION, \n",
    "                                               power = POWER, \n",
    "                                               alpha = ALPHA)\n",
    "        clear_output(wait=True)\n",
    "        display(final_df.sort_values('platform').style.hide_index().set_precision(3))"
   ]
  },
  {
   "cell_type": "code",
   "execution_count": 23,
   "metadata": {},
   "outputs": [],
   "source": [
    "# output SQL for debugging purposes; can copy and manually run this elsewhere\n",
    "\n",
    "sql_output = Output()\n",
    "print_button = Button(description=\"Print SQL (for debugging)\", layout=Layout(width='200px'))\n",
    "\n",
    "def print_sql_on_button_clicked(b):\n",
    "    sql_output.clear_output(wait = True)\n",
    "    with sql_output:\n",
    "        print(FINAL_SQL)"
   ]
  },
  {
   "cell_type": "code",
   "execution_count": 24,
   "metadata": {},
   "outputs": [
    {
     "data": {
      "application/vnd.jupyter.widget-view+json": {
       "model_id": "8a91e570feeb42a9afc166d5d34851e3",
       "version_major": 2,
       "version_minor": 0
      },
      "text/plain": [
       "Button(description='Calculate sample size', layout=Layout(width='200px'), style=ButtonStyle())"
      ]
     },
     "metadata": {},
     "output_type": "display_data"
    },
    {
     "data": {
      "application/vnd.jupyter.widget-view+json": {
       "model_id": "76c99d9cd24347ee886cbdbeceb3e51c",
       "version_major": 2,
       "version_minor": 0
      },
      "text/plain": [
       "Output()"
      ]
     },
     "metadata": {},
     "output_type": "display_data"
    }
   ],
   "source": [
    "ipy_display(run_button, output)\n",
    "run_button.on_click(run_on_button_clicked)"
   ]
  },
  {
   "cell_type": "markdown",
   "metadata": {},
   "source": [
    "## Problems? Show filters and/or SQL to debug"
   ]
  },
  {
   "cell_type": "code",
   "execution_count": 9,
   "metadata": {},
   "outputs": [
    {
     "data": {
      "application/vnd.jupyter.widget-view+json": {
       "model_id": "4c5ba0b82acb4b3c9edfc9307562a832",
       "version_major": 2,
       "version_minor": 0
      },
      "text/plain": [
       "Button(description='Show all filters', layout=Layout(width='200px'), style=ButtonStyle())"
      ]
     },
     "metadata": {},
     "output_type": "display_data"
    },
    {
     "data": {
      "application/vnd.jupyter.widget-view+json": {
       "model_id": "a554020bc9ae4dd688ce2c41d094423c",
       "version_major": 2,
       "version_minor": 0
      },
      "text/plain": [
       "Output()"
      ]
     },
     "metadata": {},
     "output_type": "display_data"
    },
    {
     "data": {
      "application/vnd.jupyter.widget-view+json": {
       "model_id": "323d9b316fcb4b03b9583e16fdf700e9",
       "version_major": 2,
       "version_minor": 0
      },
      "text/plain": [
       "Button(description='Print SQL (for debugging)', layout=Layout(width='200px'), style=ButtonStyle())"
      ]
     },
     "metadata": {},
     "output_type": "display_data"
    },
    {
     "data": {
      "application/vnd.jupyter.widget-view+json": {
       "model_id": "7d55b8a42f1e4c62a4cc5e78f349dc08",
       "version_major": 2,
       "version_minor": 0
      },
      "text/plain": [
       "Output()"
      ]
     },
     "metadata": {},
     "output_type": "display_data"
    }
   ],
   "source": [
    "ipy_display(show_filter_button, filter_output, print_button, sql_output)\n",
    "show_filter_button.on_click(print_filters_on_button_clicked)\n",
    "print_button.on_click(print_sql_on_button_clicked)"
   ]
  }
 ],
 "metadata": {
  "kernelspec": {
   "display_name": "Python 3",
   "language": "python",
   "name": "python3"
  },
  "language_info": {
   "codemirror_mode": {
    "name": "ipython",
    "version": 3
   },
   "file_extension": ".py",
   "mimetype": "text/x-python",
   "name": "python",
   "nbconvert_exporter": "python",
   "pygments_lexer": "ipython3",
   "version": "3.7.4"
  }
 },
 "nbformat": 4,
 "nbformat_minor": 4
}
