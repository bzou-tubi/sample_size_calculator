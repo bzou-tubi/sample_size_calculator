{
 "cells": [
  {
   "cell_type": "markdown",
   "metadata": {},
   "source": [
    "# Sample Size Calculator (WIP)"
   ]
  },
  {
   "cell_type": "code",
   "execution_count": null,
   "metadata": {},
   "outputs": [],
   "source": [
    "import tubi_data_runtime as tdr\n",
    "import math\n",
    "import pandas as pd\n",
    "import numpy as np\n",
    "from datetime import date\n",
    "# from statsmodels.stats.power import tt_ind_solve_power\n",
    "from ipywidgets import interact, interactive, fixed, interact_manual, Button, HBox, VBox\n",
    "import ipywidgets as widgets\n",
    "\n",
    "from ssc_utils.filter_generator import filter_generator\n",
    "from ssc_utils.raw_user_data import raw_user_data\n",
    "from ssc_utils.metric_switcher import metric_switcher\n",
    "from ssc_utils.metric_summary import metric_summary\n",
    "from ssc_utils.cuped import cuped\n",
    "import ssc_utils.calculator as c\n",
    "\n",
    "# load choices\n",
    "event_name_choices = filter_generator().event_name_choices()\n",
    "filter_metrics_choices = filter_generator().filter_metrics_choices()"
   ]
  },
  {
   "cell_type": "markdown",
   "metadata": {},
   "source": [
    "## Interactive calculator (end user starts here)"
   ]
  },
  {
   "cell_type": "code",
   "execution_count": null,
   "metadata": {},
   "outputs": [],
   "source": [
    "EFFECT_SIZE_RELATIVE = interactive(c.effect, effect=(0.0,1.0,0.01))\n",
    "NUMBER_VARIATIONS = interactive(c.variations, variations=(0,8,1))\n",
    "ALLOCATION = interactive(c.allocation, allocation=(0.0,1.0,0.01))\n",
    "POWER = interactive(c.power, power=(0.0,1.0,0.01))\n",
    "ALPHA = interactive(c.alpha, alpha=(0.0,1.0,0.01))\n",
    "\n",
    "primary_metric = interactive(metric_switcher().choose_metric, metric = metric_switcher().possible_metrics())\n",
    "\n",
    "attribute_filter = interactive(filter_generator().make_sql_condition_string, \n",
    "                                   field = filter_generator().filter_attributes_choices(), \n",
    "                                   condition = filter_generator().attribute_conditions_choices(), \n",
    "                                   value = '', \n",
    "                                   filter_type = fixed('attribute'))\n",
    "\n",
    "metric_filter = interactive(filter_generator().make_sql_condition_string, \n",
    "                                field = filter_metrics_choices, \n",
    "                                condition = filter_generator().metric_conditions_choices(), \n",
    "                                value = '', \n",
    "                                filter_type = fixed('metric'))\n",
    "\n",
    "\n",
    "primary_event = widgets.SelectMultiple(\n",
    "    options = event_name_choices,\n",
    "    value = ('no event filter',), \n",
    "    description='Events'\n",
    "#     disabled=False\n",
    ")\n",
    "\n",
    "primary_event_sub_cond = interactive(filter_generator().make_sql_condition_string, \n",
    "                              field = filter_generator().event_sub_cond_field_choices(), \n",
    "                              condition = filter_generator().metric_conditions_choices(), \n",
    "                              value = '', \n",
    "                              filter_type = fixed('event'))\n",
    "\n",
    "\n",
    "pre_event = widgets.SelectMultiple(\n",
    "    options = event_name_choices,\n",
    "    value = ('no event filter',), \n",
    "    description='Events',\n",
    "    disabled=False\n",
    ")\n",
    "\n",
    "pre_event_sub_cond = interactive(filter_generator().make_sql_condition_string, \n",
    "                              field = filter_generator().event_sub_cond_field_choices(), \n",
    "                              condition = filter_generator().metric_conditions_choices(), \n",
    "                              value = '', \n",
    "                              filter_type = fixed('event'))\n",
    "\n",
    "\n",
    "time_interval = interactive(filter_generator().interval, interval = 'NULL')"
   ]
  },
  {
   "cell_type": "code",
   "execution_count": null,
   "metadata": {},
   "outputs": [],
   "source": [
    "parameters = widgets.VBox([EFFECT_SIZE_RELATIVE, NUMBER_VARIATIONS, ALLOCATION, POWER, ALPHA, primary_metric])\n",
    "\n",
    "filter_accordion = widgets.Accordion([attribute_filter, metric_filter])\n",
    "filter_accordion_titles = ['attribute', 'metric']\n",
    "for i in range(0,len(filter_accordion_titles)):\n",
    "    filter_accordion.set_title(i, filter_accordion_titles[i])\n",
    "\n",
    "primary_event_set = VBox([primary_event, primary_event_sub_cond])\n",
    "pre_event_set = VBox([pre_event, pre_event_sub_cond, time_interval])\n",
    "\n",
    "event_filter_accordion = widgets.Accordion([primary_event_set, pre_event_set])\n",
    "event_filter_accordion_titles = ['primary event','pre event']\n",
    "for i in range(0,len(event_filter_accordion_titles)):\n",
    "    event_filter_accordion.set_title(i, event_filter_accordion_titles[i])    \n",
    "\n",
    "list_widgets  = [\n",
    "    parameters,\n",
    "    filter_accordion,\n",
    "    event_filter_accordion   \n",
    "]\n",
    "\n",
    "tab = widgets.Tab(children = list_widgets)\n",
    "\n",
    "titles = ['parameters','filters','event filters']\n",
    "for i in range(0,len(titles)):\n",
    "    tab.set_title(i, titles[i])\n",
    "tab"
   ]
  },
  {
   "cell_type": "markdown",
   "metadata": {},
   "source": [
    "## After the user specifies the settings, run everything below"
   ]
  },
  {
   "cell_type": "code",
   "execution_count": null,
   "metadata": {
    "scrolled": true
   },
   "outputs": [],
   "source": [
    "filters_sql = filter_generator().generate_filter_cte(attribute_condition_interact = attribute_filter, \n",
    "                                                 metric_condition_interact = metric_filter, \n",
    "                                                 event1_condition_interact = pre_event, \n",
    "                                                 event1_sub_condition_interact = pre_event_sub_cond, \n",
    "                                                 event2_condition_interact = primary_event, \n",
    "                                                 event2_sub_condition_interact = primary_event_sub_cond, \n",
    "                                                 event_time_interval_interact = time_interval)\n",
    "raw_user_sql = raw_user_data().generate_raw_user_data_cte(prev_cte_sql = filters_sql)\n",
    "user_sql = metric_switcher().generate_user_data_cte(primary_metric.result) \n",
    "summary_sql = metric_summary().generate_metric_summary_cte() \n",
    "cuped_sql = cuped().generate_cuped_cte(event2_condition_interact = primary_event)\n",
    "\n",
    "FINAL_SQL = filters_sql + raw_user_sql + user_sql + summary_sql + cuped_sql\n",
    "\n",
    "# output SQL for debugging purposes; can copy and manually run this elsewhere\n",
    "print(FINAL_SQL)"
   ]
  },
  {
   "cell_type": "markdown",
   "metadata": {},
   "source": [
    "## Results"
   ]
  },
  {
   "cell_type": "code",
   "execution_count": null,
   "metadata": {},
   "outputs": [],
   "source": [
    "import warnings\n",
    "from statsmodels.tools.sm_exceptions import ConvergenceWarning\n",
    "warnings.simplefilter('ignore', ConvergenceWarning)\n",
    "\n",
    "raw_df = tdr.query_redshift(FINAL_SQL).to_df()\n",
    "\n",
    "final_df = c.calculate_sample_required(df = raw_df, \n",
    "                                       effect_size_relative = EFFECT_SIZE_RELATIVE, \n",
    "                                       number_variations = NUMBER_VARIATIONS, \n",
    "                                       allocation = ALLOCATION, \n",
    "                                       power = POWER, \n",
    "                                       alpha = ALPHA)\n",
    "\n",
    "final_df.sort_values('platform').style\\\n",
    "    .hide_index()\\\n",
    "    .set_precision(3)\\"
   ]
  },
  {
   "cell_type": "code",
   "execution_count": null,
   "metadata": {},
   "outputs": [],
   "source": []
  }
 ],
 "metadata": {
  "kernelspec": {
   "display_name": "Python 3",
   "language": "python",
   "name": "python3"
  },
  "language_info": {
   "codemirror_mode": {
    "name": "ipython",
    "version": 3
   },
   "file_extension": ".py",
   "mimetype": "text/x-python",
   "name": "python",
   "nbconvert_exporter": "python",
   "pygments_lexer": "ipython3",
   "version": "3.7.4"
  }
 },
 "nbformat": 4,
 "nbformat_minor": 4
}
