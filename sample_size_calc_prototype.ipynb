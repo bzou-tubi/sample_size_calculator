{
 "cells": [
  {
   "cell_type": "markdown",
   "metadata": {},
   "source": [
    "# Sample Size Calculator (WIP)\n",
    "Purpose: we want a version of the [Periscope dashboard](https://app.periscopedata.com/app/adrise:tubi/676521/(Official)-Experimentation-Sample-Size-Calculator), but with additional flexibility of filtering for a specific set of users. \n",
    "\n",
    "The very high level concept of this tool:\n",
    "1. Dynamically generate a SQL query based on a set of user-generated inputs. Run the query on Redshift to pull into a dataframe.\n",
    "2. Run through the sample size calculations (with the ability for the user to set custom parameters). Output a table that displays sample required for all chosen platforms. \n",
    "\n",
    "The bulk of the work is focused on adding flexibility to #1. This tool is WIP and there are many improvements to be done (in order of priority):\n",
    "- Adding analytics_richevent filtering capabilities (ie. can we pull all users who watched 70% of a video, then hit the back button?)\n",
    "- Adding capability to have more than 1 attribute and metric filter\n",
    "- Adding flexibility for the user to define their own primary metrics"
   ]
  },
  {
   "cell_type": "code",
   "execution_count": 1,
   "metadata": {},
   "outputs": [],
   "source": [
    "import tubi_data_runtime as tdr\n",
    "import math\n",
    "import pandas as pd\n",
    "import numpy as np\n",
    "from datetime import date\n",
    "from statsmodels.stats.power import tt_ind_solve_power\n",
    "from ipywidgets import interact, interactive, fixed, interact_manual\n",
    "import ipywidgets as widgets\n",
    "\n",
    "from ssc_utils.filter_generator import filter_generator\n",
    "from ssc_utils.raw_user_data import raw_user_data\n",
    "from ssc_utils.metric_switcher import metric_switcher\n",
    "from ssc_utils.metric_summary import metric_summary\n",
    "from ssc_utils.cuped import cuped\n",
    "import ssc_utils.calculator as c\n",
    "\n",
    "# load choices\n",
    "event_name_choices = filter_generator().event_name_choices()\n",
    "filter_metrics_choices = filter_generator().filter_metrics_choices()"
   ]
  },
  {
   "cell_type": "markdown",
   "metadata": {},
   "source": [
    "## Interactive calculator (end user starts here)"
   ]
  },
  {
   "cell_type": "code",
   "execution_count": 2,
   "metadata": {
    "jupyter": {
     "source_hidden": true
    }
   },
   "outputs": [
    {
     "name": "stdout",
     "output_type": "stream",
     "text": [
      "relative effect size\n"
     ]
    },
    {
     "data": {
      "application/vnd.jupyter.widget-view+json": {
       "model_id": "14ffef0fbdb04f10b6816b103a3930ea",
       "version_major": 2,
       "version_minor": 0
      },
      "text/plain": [
       "interactive(children=(FloatSlider(value=0.01, description='x', max=1.0, step=0.01), Output()), _dom_classes=('…"
      ]
     },
     "metadata": {},
     "output_type": "display_data"
    },
    {
     "name": "stdout",
     "output_type": "stream",
     "text": [
      "\n",
      "number of treatments\n"
     ]
    },
    {
     "data": {
      "application/vnd.jupyter.widget-view+json": {
       "model_id": "2654516f8bff4fe29c8ef27d09522033",
       "version_major": 2,
       "version_minor": 0
      },
      "text/plain": [
       "interactive(children=(IntSlider(value=1, description='x', max=8), Output()), _dom_classes=('widget-interact',)…"
      ]
     },
     "metadata": {},
     "output_type": "display_data"
    },
    {
     "name": "stdout",
     "output_type": "stream",
     "text": [
      "\n",
      "allocation per variation (including control)\n"
     ]
    },
    {
     "data": {
      "application/vnd.jupyter.widget-view+json": {
       "model_id": "cc8654d5b79140dba10501557356f326",
       "version_major": 2,
       "version_minor": 0
      },
      "text/plain": [
       "interactive(children=(FloatSlider(value=0.5, description='x', max=1.0, step=0.01), Output()), _dom_classes=('w…"
      ]
     },
     "metadata": {},
     "output_type": "display_data"
    },
    {
     "name": "stdout",
     "output_type": "stream",
     "text": [
      "\n",
      "power\n"
     ]
    },
    {
     "data": {
      "application/vnd.jupyter.widget-view+json": {
       "model_id": "869fdfbeeab64a248f95d74b55f3085c",
       "version_major": 2,
       "version_minor": 0
      },
      "text/plain": [
       "interactive(children=(FloatSlider(value=0.8, description='x', max=1.0, step=0.01), Output()), _dom_classes=('w…"
      ]
     },
     "metadata": {},
     "output_type": "display_data"
    },
    {
     "name": "stdout",
     "output_type": "stream",
     "text": [
      "\n",
      "alpha\n"
     ]
    },
    {
     "data": {
      "application/vnd.jupyter.widget-view+json": {
       "model_id": "7205b8bf76204ac0b740c7301b117d89",
       "version_major": 2,
       "version_minor": 0
      },
      "text/plain": [
       "interactive(children=(FloatSlider(value=0.05, description='x', max=1.0, step=0.01), Output()), _dom_classes=('…"
      ]
     },
     "metadata": {},
     "output_type": "display_data"
    }
   ],
   "source": [
    "print('relative effect size')\n",
    "EFFECT_SIZE_RELATIVE = interactive(c.effect, x=(0.0,1.0,0.01))\n",
    "display(EFFECT_SIZE_RELATIVE)\n",
    "\n",
    "print('')\n",
    "print('number of treatments')\n",
    "NUMBER_VARIATIONS = interactive(c.variations, x=(0,8,1))\n",
    "display(NUMBER_VARIATIONS)\n",
    "\n",
    "print('')\n",
    "print('allocation per variation (including control)')\n",
    "ALLOCATION = interactive(c.allocation, x=(0.0,1.0,0.01))\n",
    "display(ALLOCATION)\n",
    "\n",
    "print('')\n",
    "print('power')\n",
    "POWER = interactive(c.power, x=(0.0,1.0,0.01))\n",
    "display(POWER)\n",
    "\n",
    "print('')\n",
    "print('alpha')\n",
    "ALPHA = interactive(c.alpha, x=(0.0,1.0,0.01))\n",
    "display(ALPHA)"
   ]
  },
  {
   "cell_type": "code",
   "execution_count": 3,
   "metadata": {},
   "outputs": [
    {
     "name": "stdout",
     "output_type": "stream",
     "text": [
      "\n",
      "choose your primary metric\n"
     ]
    },
    {
     "data": {
      "application/vnd.jupyter.widget-view+json": {
       "model_id": "30d9e28f24c247b78ee56bdb570136dc",
       "version_major": 2,
       "version_minor": 0
      },
      "text/plain": [
       "interactive(children=(Dropdown(description='metric', options=('capped_tvt', 'new_viewer_first_day_capped_tvt',…"
      ]
     },
     "metadata": {},
     "output_type": "display_data"
    }
   ],
   "source": [
    "print('')\n",
    "print('choose your primary metric')\n",
    "metric_str = interactive(metric_switcher().choose_metric, metric = metric_switcher().possible_metrics())\n",
    "display(metric_str)"
   ]
  },
  {
   "cell_type": "code",
   "execution_count": 4,
   "metadata": {},
   "outputs": [
    {
     "name": "stdout",
     "output_type": "stream",
     "text": [
      "choose attribute filter\n"
     ]
    },
    {
     "data": {
      "application/vnd.jupyter.widget-view+json": {
       "model_id": "6548456dcfa8449180b8d75ec37114c5",
       "version_major": 2,
       "version_minor": 0
      },
      "text/plain": [
       "interactive(children=(Dropdown(description='field', options=('no filters', 'user_id', 'device_id', 'platform',…"
      ]
     },
     "metadata": {},
     "output_type": "display_data"
    }
   ],
   "source": [
    "print('choose attribute filter')\n",
    "attribute_filter = interactive(filter_generator().make_sql_condition_string, \n",
    "                                   field = filter_generator().filter_attributes_choices(), \n",
    "                                   condition = filter_generator().attribute_conditions_choices(), \n",
    "                                   value = '', \n",
    "                                   filter_type = fixed('attribute'))\n",
    "display(attribute_filter)"
   ]
  },
  {
   "cell_type": "code",
   "execution_count": 5,
   "metadata": {},
   "outputs": [
    {
     "name": "stdout",
     "output_type": "stream",
     "text": [
      "\n",
      "choose metric filter\n"
     ]
    },
    {
     "data": {
      "application/vnd.jupyter.widget-view+json": {
       "model_id": "6917aa1542fc467e9a7f28e0c6b6dc93",
       "version_major": 2,
       "version_minor": 0
      },
      "text/plain": [
       "interactive(children=(Dropdown(description='field', options=('no filters', 'visit_total_count', 'tvt_sec', 'mo…"
      ]
     },
     "metadata": {},
     "output_type": "display_data"
    }
   ],
   "source": [
    "print('')\n",
    "print('choose metric filter')\n",
    "metric_filter = interactive(filter_generator().make_sql_condition_string, \n",
    "                                field = filter_metrics_choices, \n",
    "                                condition = filter_generator().metric_conditions_choices(), \n",
    "                                value = '', \n",
    "                                filter_type = fixed('metric'))\n",
    "display(metric_filter)"
   ]
  },
  {
   "cell_type": "code",
   "execution_count": 6,
   "metadata": {},
   "outputs": [
    {
     "name": "stdout",
     "output_type": "stream",
     "text": [
      "choose your primary event\n"
     ]
    },
    {
     "data": {
      "application/vnd.jupyter.widget-view+json": {
       "model_id": "1763bdbfdb7046f09b8190f9300c88ea",
       "version_major": 2,
       "version_minor": 0
      },
      "text/plain": [
       "SelectMultiple(description='Events', index=(0,), options=('no event filter', 'AccountEvent', 'ActiveEvent', 'A…"
      ]
     },
     "metadata": {},
     "output_type": "display_data"
    },
    {
     "name": "stdout",
     "output_type": "stream",
     "text": [
      "choose event sub-condition\n"
     ]
    },
    {
     "data": {
      "application/vnd.jupyter.widget-view+json": {
       "model_id": "3aff50005347450598ea2a7fbdac375b",
       "version_major": 2,
       "version_minor": 0
      },
      "text/plain": [
       "interactive(children=(Dropdown(description='field', options=('no filters', 'content_completion_pct', 'componen…"
      ]
     },
     "metadata": {},
     "output_type": "display_data"
    },
    {
     "name": "stdout",
     "output_type": "stream",
     "text": [
      "choose your pre-requisite event\n"
     ]
    },
    {
     "data": {
      "application/vnd.jupyter.widget-view+json": {
       "model_id": "811f586be3f34566808eb6ace6ed78b9",
       "version_major": 2,
       "version_minor": 0
      },
      "text/plain": [
       "SelectMultiple(description='Events', index=(0,), options=('no event filter', 'AccountEvent', 'ActiveEvent', 'A…"
      ]
     },
     "metadata": {},
     "output_type": "display_data"
    },
    {
     "name": "stdout",
     "output_type": "stream",
     "text": [
      "choose event sub-condition\n"
     ]
    },
    {
     "data": {
      "application/vnd.jupyter.widget-view+json": {
       "model_id": "81f006b46fb84b6bbb18a7a06ca43d69",
       "version_major": 2,
       "version_minor": 0
      },
      "text/plain": [
       "interactive(children=(Dropdown(description='field', options=('no filters', 'content_completion_pct', 'componen…"
      ]
     },
     "metadata": {},
     "output_type": "display_data"
    },
    {
     "name": "stdout",
     "output_type": "stream",
     "text": [
      "choose time interval (leave NULL if not needed)\n"
     ]
    },
    {
     "data": {
      "application/vnd.jupyter.widget-view+json": {
       "model_id": "90af74c587cd4a88922a93226c7d9059",
       "version_major": 2,
       "version_minor": 0
      },
      "text/plain": [
       "interactive(children=(Text(value='NULL', description='choice'), Output()), _dom_classes=('widget-interact',))"
      ]
     },
     "metadata": {},
     "output_type": "display_data"
    }
   ],
   "source": [
    "print('choose your primary event')\n",
    "primary_event = widgets.SelectMultiple(\n",
    "    options = event_name_choices,\n",
    "    value = ('no event filter',), \n",
    "    description='Events',\n",
    "    disabled=False\n",
    ")\n",
    "display(primary_event)\n",
    "\n",
    "print('choose event sub-condition')\n",
    "primary_event_sub_cond = interactive(filter_generator().make_sql_condition_string, \n",
    "                              field = filter_generator().event_sub_cond_field_choices(), \n",
    "                              condition = filter_generator().metric_conditions_choices(), \n",
    "                              value = '', \n",
    "                              filter_type = fixed('event'))\n",
    "display(primary_event_sub_cond)\n",
    "\n",
    "\n",
    "print('choose your pre-requisite event')\n",
    "pre_event = widgets.SelectMultiple(\n",
    "    options = event_name_choices,\n",
    "    value = ('no event filter',), \n",
    "    description='Events',\n",
    "    disabled=False\n",
    ")\n",
    "display(pre_event)\n",
    "\n",
    "print('choose event sub-condition')\n",
    "pre_event_sub_cond = interactive(filter_generator().make_sql_condition_string, \n",
    "                              field = filter_generator().event_sub_cond_field_choices(), \n",
    "                              condition = filter_generator().metric_conditions_choices(), \n",
    "                              value = '', \n",
    "                              filter_type = fixed('event'))\n",
    "display(pre_event_sub_cond)\n",
    "\n",
    "\n",
    "print('choose time interval (leave NULL if not needed)')\n",
    "time_interval = interactive(filter_generator().choose, choice = 'NULL')\n",
    "display(time_interval)"
   ]
  },
  {
   "cell_type": "code",
   "execution_count": 11,
   "metadata": {},
   "outputs": [
    {
     "name": "stdout",
     "output_type": "stream",
     "text": [
      "\n",
      "        WITH start_devices AS ( \n",
      "          -- had to change this CTE name; for some reason \"events\" throws an error on Redshift... no idea why it works on Periscope\n",
      "          -- TODO: figure out how to auto-sync this with our Periscope snippets \n",
      "          SELECT\n",
      "            round((position/1000.0)/duration, 2) as content_completion_pct,\n",
      "            a.device_id,\n",
      "            a.user_id,\n",
      "            a.platform,\n",
      "            case\n",
      "              when UPPER(a.platform) in (\n",
      "                'IPHONE', 'IPAD', 'ANDROID', 'FIRETABLET', 'ANDROID-SAMSUNG', 'ANDROID_SAMSUNG', 'FOR_SAMSUNG', 'IOS_WEB', 'IOS') then 'MOBILE'\n",
      "              when UPPER(a.platform) in (\n",
      "                'WEB') then 'WEB'\n",
      "              else\n",
      "                'OTT'\n",
      "            end\n",
      "            as platform_type, -- TODO: figure out how to make this auto-sync with DBT: http://dw-docs.production-public.tubi.io/ux/#!/macro/macro.core_metrics.platform_type\n",
      "            a.device_first_seen_ts as device_first_seen_ts,\n",
      "            a.ts,\n",
      "            a.event_name,\n",
      "            a.component__left_nav_section,\n",
      "            a.component__utility_tile__id,\n",
      "            a.dest_page__category_slug,\n",
      "            a.content_id,\n",
      "            case when a.content_type = 'EPISODE' then a.content_series_id else a.content_id end as program_id,\n",
      "            a.page_type,\n",
      "            a.dest_page_type,\n",
      "            a.container_id,\n",
      "            a.container_slug,\n",
      "            a.query,\n",
      "            a.manip,\n",
      "            a.auth_type,\n",
      "            a.current_auth_type,\n",
      "            a.status,\n",
      "            NVL(content_series_id, content_id) as start_video_content_id,\n",
      "            LEAD(a.ts, 1) OVER (PARTITION BY a.device_id ORDER BY a.ts ASC) as next_time,\n",
      "            LEAD(a.event_name, 1) OVER (PARTITION BY a.device_id ORDER BY a.ts ASC) as next_event_name,\n",
      "            LEAD(a.page_type, 1) OVER (PARTITION BY a.device_id ORDER BY a.ts ASC) as next_source_page_type,\n",
      "\n",
      "            CASE WHEN next_time > a.ts + interval '30 minutes' then 1 else 0 end as session_counter -- TODO: make the interval user-specified\n",
      "\n",
      "          FROM tubidw.sampled_analytics_thousandth a\n",
      "          WHERE DATE_TRUNC('week',ts) >= dateadd('week',-4, DATE_TRUNC('week',GETDATE()))\n",
      "            AND DATE_TRUNC('week',ts) < DATE_TRUNC('week',GETDATE())\n",
      "          AND platform = 'ROKU' -- attribute filters dynamically populate here\n",
      "        )\n",
      "\n",
      "        , sessionized_events AS (\n",
      "          SELECT\n",
      "            *,\n",
      "            1 + coalesce(sum(session_counter) OVER (PARTITION BY device_id ORDER BY ts rows between UNBOUNDED preceding and 1 PRECEDING), 0) as session_num\n",
      "          FROM start_devices\n",
      "        )\n",
      "        \n",
      "        , window as (\n",
      "          -- main query to get condition 2 status (funnel output)\n",
      "          select\n",
      "            *,\n",
      "            first_value(case when event_name IN ('BookmarkEvent', 'NavigateToPageEvent', 'NavigateWithinPageEvent', 'PageLoadEvent') AND page_type = 'VideoPlayerPage' and has_condition1 then 1 else null end IGNORE NULLS) over\n",
      "            (partition by device_id, session_num order by ts asc rows\n",
      "            between unbounded preceding and CURRENT ROW) as has_condition1_condition2,\n",
      "            first_value(case when event_name IN ('BookmarkEvent', 'NavigateToPageEvent', 'NavigateWithinPageEvent', 'PageLoadEvent') AND page_type = 'VideoPlayerPage' then 1 else null end IGNORE NULLS) over\n",
      "            (partition by device_id, session_num order by ts asc rows\n",
      "            between unbounded preceding and CURRENT ROW) as has_condition2,\n",
      "            first_value(case when event_name IN ('BookmarkEvent', 'NavigateToPageEvent', 'NavigateWithinPageEvent', 'PageLoadEvent') AND page_type = 'VideoPlayerPage' then ts else null end IGNORE NULLS) over\n",
      "            (partition by device_id, session_num order by ts asc rows\n",
      "            between unbounded preceding and CURRENT ROW) as ts_condition2\n",
      "\n",
      "          from\n",
      "            -- subquery to get condition 1 status (funnel input)\n",
      "            (select\n",
      "              *,\n",
      "              first_value(case when event_name IN ('PlayProgressEvent') AND content_completion_pct > 0.70 then 1 else null end IGNORE NULLS) over \n",
      "              (partition by device_id, session_num order by ts asc rows \n",
      "              between unbounded preceding and CURRENT ROW) as has_condition1,\n",
      "              first_value(case when event_name IN ('PlayProgressEvent') AND content_completion_pct > 0.70 then ts else null end IGNORE NULLS) over\n",
      "              (partition by device_id, session_num order by ts asc rows\n",
      "              between unbounded preceding and CURRENT ROW) as ts_condition1\n",
      "            from sessionized_events\n",
      "            )\n",
      "\n",
      "            -- TODO: can we save time by filtering the events? Doesn't save much time with sampled_analytics_thousandth \n",
      "            -- WHERE event_name IN ('PlayProgressEvent') AND content_completion_pct > 0.70 \n",
      "            -- AND event_name IN ('BookmarkEvent', 'NavigateToPageEvent', 'NavigateWithinPageEvent', 'PageLoadEvent') AND page_type = 'VideoPlayerPage' \n",
      "        )\n",
      "        \n",
      "        , base_summarized_sessions AS (\n",
      "          SELECT\n",
      "            device_id,\n",
      "            session_num,\n",
      "            \n",
      "            -- Flag indicating whether the device had a relevant event\n",
      "            -- TODO: auto-update with http://dw-docs.production-public.tubi.io/ux/#!/macro/macro.core_metrics.all_metric_event_name_filtered\n",
      "            BOOL_OR(CASE WHEN event_name in ('PlayProgressEvent', 'StartVideoEvent', 'StartTrailerEvent', 'PageLoadEvent',\n",
      "                                         'AccountEvent', 'ActiveEvent', 'StartAdEvent', 'FinishAdEvent', 'SubtitlesToggleEvent', 'SearchEvent',\n",
      "                                         'SeekEvent', 'ResumeAfterBreakEvent', 'PauseToggleEvent', 'CastEvent', 'LivePlayProgressEvent',\n",
      "                                         'LivePlayProgressEventEvent', 'StartLiveVideoEvent', 'BookmarkEvent'\n",
      "                                         ) THEN TRUE ELSE FALSE END) AS has_all_metric_hourly_events,\n",
      "        \n",
      "            -- Aggregate values\n",
      "            MAX(CASE WHEN has_condition1_condition2 THEN 1 ELSE 0 END) > 0 AS has_condition1_condition2,\n",
      "            MAX(CASE WHEN DATEDIFF('second', ts_condition1, ts_condition2) <= COALESCE( NULL, 999999) THEN 1 ELSE 0 END) > 0 AS time_condition,\n",
      "            SUM(has_condition1) AS sum_condition1,\n",
      "            SUM(has_condition2) AS sum_condition2,\n",
      "            SUM(CASE WHEN has_condition1_condition2 THEN 1 ELSE 0 END) AS sum_both_conditions,\n",
      "            SUM(CASE WHEN has_condition1 THEN 1 ELSE 0 END) >= SUM(has_condition1_condition2) AS condition1_before_condition2,\n",
      "            SUM(CASE WHEN has_condition1 THEN 1 ELSE 0 END) - SUM(CASE WHEN has_condition1_condition2 THEN 1 ELSE 0 END) AS condition_difference\n",
      "          FROM window\n",
      "          GROUP BY 1, 2\n",
      "        )\n",
      "\n",
      "        , summarized_session as (\n",
      "          SELECT\n",
      "            *,\n",
      "\n",
      "            sum_condition1 > 0 AS has_condition1,\n",
      "            sum_condition2 > 0 AS has_condition2,\n",
      "\n",
      "            CASE WHEN has_condition1_condition2 AND condition1_before_condition2 THEN TRUE ELSE FALSE END AS has_both_conditions,\n",
      "            CASE WHEN has_condition1_condition2 AND time_condition AND condition1_before_condition2 THEN TRUE ELSE FALSE END AS has_both_conditions_time\n",
      "\n",
      "            -- NOTE: Steps interval is commented outs for simplicity. Can add this functionality back if there is a use case in the future.\n",
      "            -- MAX(CASE WHEN condition_difference <= COALESCE( NULL, 999999) THEN 1 ELSE 0 END) > 0 AS steps_condition,\n",
      "            -- CASE WHEN has_condition1_condition2 AND steps_condition AND condition1_before_condition2 THEN TRUE ELSE FALSE END AS has_both_conditions_steps,\n",
      "            -- CASE WHEN has_condition1_condition2 AND steps_condition AND time_condition AND condition1_before_condition2 THEN TRUE ELSE FALSE END AS has_both_conditions_time_steps\n",
      "          \n",
      "          FROM\n",
      "            base_summarized_sessions\n",
      "          GROUP BY\n",
      "            1, 2, 3, 4, 5, 6, 7, 8, 9, 10\n",
      "        )\n",
      "        \n",
      "        , elig_devices as ( \n",
      "            SELECT device_id\n",
      "            FROM summarized_session\n",
      "            GROUP BY 1\n",
      "            HAVING BOOL_OR(has_both_conditions_time)\n",
      "            AND BOOL_OR(has_all_metric_hourly_events) -- using this brings the number of devices closer to all_metric_hourly (2.5% off)\n",
      "        )\n",
      "            \n",
      "        \n",
      "        , elig_device_metrics as (\n",
      "            -- For eligible devices, pull their whole history for the metric we want to filter\n",
      "            SELECT \n",
      "                d.device_id,\n",
      "                d.device_first_seen_ts,\n",
      "                d.device_first_view_ts,\n",
      "                d.platform,\n",
      "                d.platform_type,\n",
      "                d.ds,\n",
      "                -- For filtering devices\n",
      "                sum(tvt_sec) as daily_filter_metric\n",
      "            FROM tubidw.device_metric_daily as d\n",
      "            JOIN start_devices as e\n",
      "                ON d.device_id = e.device_id\n",
      "            GROUP BY 1,2,3,4,5,6\n",
      "        )\n",
      "\n",
      "        , elig_device_cumul_filter as (\n",
      "            SELECT *, sum(daily_filter_metric) OVER (PARTITION BY device_id, platform_type, platform ORDER BY ds rows between unbounded preceding and current row) as cumul_filter_metric\n",
      "            FROM elig_device_metrics\n",
      "        )\n",
      "\n",
      "        , elig_devices as (\n",
      "            SELECT device_id\n",
      "            FROM elig_device_cumul_filter\n",
      "            GROUP BY 1\n",
      "            HAVING 1=1\n",
      "            -- cumulative metric filters dynamically populate below \n",
      "            AND MAX(cumul_filter_metric) > 3600\n",
      "            -- example: \n",
      "            -- AND max(cumul_filter_metric) >= 3600.0 -- at least 60 mins of cumulative TVT\n",
      "            -- AND max(cumul_filter_metric) <= 3600.0 -- less than 60 mins of cumulative TVT\n",
      "        )\n",
      "        ,\n"
     ]
    }
   ],
   "source": [
    "print(filter_generator().generate_filter_cte(attribute_condition_interact = attribute_filter, \n",
    "                                             metric_condition_interact = metric_filter, \n",
    "                                             event1_condition_interact = pre_event, \n",
    "                                             event1_sub_condition_interact = pre_event_sub_cond, \n",
    "                                             event2_condition_interact = primary_event, \n",
    "                                             event2_sub_condition_interact = primary_event_sub_cond, \n",
    "                                             event_time_interval_interact = time_interval))"
   ]
  },
  {
   "cell_type": "markdown",
   "metadata": {},
   "source": [
    "## After the user specifies the settings, run everything below"
   ]
  },
  {
   "cell_type": "code",
   "execution_count": 4,
   "metadata": {
    "scrolled": true
   },
   "outputs": [
    {
     "name": "stdout",
     "output_type": "stream",
     "text": [
      "\n",
      "        WITH elig_devices as (\n",
      "            -- Pull list of devices that were active (has any row; don't need TVT >0) in the past 4 weeks\n",
      "            SELECT DISTINCT device_id\n",
      "            FROM tubidw.all_metric_hourly\n",
      "            WHERE DATE_TRUNC('week',hs) >= dateadd('week',-4,DATE_TRUNC('week',GETDATE()))\n",
      "            AND DATE_TRUNC('week',hs) < DATE_TRUNC('week',GETDATE())\n",
      "             -- attribute filters dynamically populate here\n",
      "\n",
      "        --     for example:\n",
      "        --     AND user_id is not null AND device_id <> user_id   -- Guest vs signed in device\n",
      "        --     AND platform IN ('ROKU', 'AMAZON')                 -- Platform/Platform type specific\n",
      "        --     TODO: currently can't get a metric/attribute combo filter, like \"devices that watched at least 50% of a specific content_id\"\n",
      "        )\n",
      "\n",
      "        -- The next 3 CTEs are a waste of processing if cumul_filter_metric is not used.\n",
      "        -- TODO: Figure out some way to make this dynamic, based on if cumul_filter_metric is used or not\n",
      "        , elig_device_metrics as (\n",
      "            -- For eligible devices, pull their whole history\n",
      "            SELECT \n",
      "                d.device_id,\n",
      "                d.device_first_seen_ts,\n",
      "                d.device_first_view_ts,\n",
      "                d.platform,\n",
      "                d.platform_type,\n",
      "                d.ds,\n",
      "\n",
      "                -- For filtering devices\n",
      "                sum(0) as daily_filter_metric,\n",
      "\n",
      "                -- For calculating metrics\n",
      "                sum(d.tvt_sec) as tvt_sec,\n",
      "                sum(d.user_signup_count) as user_signup_count,\n",
      "                sum(d.device_registration_count) as device_registration_count,\n",
      "                sum(d.signup_or_registration_activity_count) as signup_or_registration_activity_count,\n",
      "                sum(d.visit_total_count) as visit_total_count\n",
      "            FROM tubidw.device_metric_daily as d\n",
      "            JOIN elig_devices as e\n",
      "                ON d.device_id = e.device_id\n",
      "            GROUP BY 1,2,3,4,5,6\n",
      "        )\n",
      "\n",
      "        , elig_device_cumul_filter as (\n",
      "            SELECT *, sum(daily_filter_metric) OVER (PARTITION BY device_id, platform_type, platform ORDER BY ds rows between unbounded preceding and current row) as cumul_filter_metric\n",
      "            FROM elig_device_metrics\n",
      "        )\n",
      "\n",
      "        , elig_devices2 as (\n",
      "            SELECT device_id\n",
      "            FROM elig_device_cumul_filter\n",
      "\n",
      "            -- cumulative metric filters dynamically populate below \n",
      "            WHERE 1=1\n",
      "            \n",
      "            -- example: \n",
      "            -- AND cumul_filter_metric >= 3600.0      -- at least 60 mins of cumulative TVT\n",
      "\n",
      "            GROUP BY 1\n",
      "\n",
      "            HAVING 1=1\n",
      "            \n",
      "            -- example: \n",
      "            -- AND max(cumul_filter_metric) <= 3600.0 -- less than 60 mins of cumulative TVT\n",
      "        )\n",
      "        , raw_user_data AS (\n",
      "              SELECT \n",
      "                     a.device_id,\n",
      "                     device_first_seen_ts,\n",
      "                     ds,\n",
      "                     platform_type,\n",
      "                     platform,\n",
      "                     GETDATE() AS last_exposure_ds,\n",
      "                     DATEADD('week', -2, DATE_TRUNC('week', last_exposure_ds)) AS first_exposure_ds,\n",
      "                     -- Metrics\n",
      "                     sum(tvt_sec) as tvt_sec,\n",
      "                     sum(user_signup_count) as user_signup_count,\n",
      "                     sum(device_registration_count) as device_registration_count,\n",
      "                     sum(signup_or_registration_activity_count) as signup_or_registration_activity_count,\n",
      "                     sum(visit_total_count) as visit_total_count\n",
      "              FROM tubidw.device_metric_daily as a\n",
      "              JOIN elig_devices2 as e    -- TODO: make this dynamic, based on if cumul_filter_metric is used or not\n",
      "                ON a.device_id = e.device_id  \n",
      "              WHERE DATE_TRUNC('week',ds) >= dateadd('week', -4, DATE_TRUNC('week',GETDATE()))\n",
      "                AND DATE_TRUNC('week',ds) < DATE_TRUNC('week', GETDATE())\n",
      "              GROUP BY 1,2,3,4,5,6,7\n",
      "            )\n",
      "        \n",
      "        , user_data AS (\n",
      "          SELECT \n",
      "            device_id, ds, platform_type, platform, device_first_seen_ts, first_exposure_ds, \n",
      "            'capped_tvt'::text AS metric_name,\n",
      "            'SUM'::text AS metric_collection_method, \n",
      "            LEAST(tvt_sec / 3600.0, 4.0) AS metric_value \n",
      "          FROM raw_user_data\n",
      "        )\n",
      "        \n",
      "            , metrics AS (\n",
      "              SELECT DISTINCT\n",
      "                     user_data.device_id,\n",
      "                     platform_type,\n",
      "                     platform,\n",
      "                     metric_name,\n",
      "                     CASE\n",
      "                       WHEN metric_collection_method = 'SUM' THEN SUM(CASE WHEN user_data.ds >= user_data.first_exposure_ds THEN metric_value ELSE 0 END) OVER\n",
      "                        (PARTITION BY user_data.device_id, user_data.platform)\n",
      "                       WHEN metric_collection_method = 'MAX' THEN MAX(CASE WHEN user_data.ds >= user_data.first_exposure_ds THEN metric_value ELSE 0 END) OVER\n",
      "                        (PARTITION BY user_data.device_id, user_data.platform)\n",
      "                      WHEN metric_collection_method = 'AVG' THEN AVG(CASE WHEN user_data.ds >= user_data.first_exposure_ds THEN metric_value ELSE NULL END) OVER\n",
      "                        (PARTITION BY user_data.device_id, user_data.platform)\n",
      "                      WHEN metric_collection_method = 'SUMGREATERTHAN' THEN CASE WHEN (SUM(CASE WHEN user_data.ds >= user_data.first_exposure_ds THEN metric_value ELSE 0 END) OVER\n",
      "                        (PARTITION BY user_data.device_id, user_data.platform)) > 1 THEN 1.0 ELSE 0.0 END\n",
      "                      ELSE 0 END::float\n",
      "                     AS metric_result,\n",
      "                    CASE\n",
      "                          WHEN metric_collection_method = 'SUM' THEN\n",
      "                              SUM(CASE WHEN user_data.ds < user_data.first_exposure_ds THEN metric_value ELSE\n",
      "                          (CASE WHEN device_first_seen_ts < user_data.first_exposure_ds - interval '14 day' THEN 0 ELSE NULL END) END) OVER\n",
      "                          (PARTITION BY user_data.device_id, user_data.platform)\n",
      "                          WHEN metric_collection_method = 'MAX' THEN\n",
      "                              MAX(CASE WHEN user_data.ds < user_data.first_exposure_ds THEN metric_value ELSE\n",
      "                          (CASE WHEN device_first_seen_ts < user_data.first_exposure_ds - interval '14 day' THEN 0 ELSE NULL END) END) OVER\n",
      "                          (PARTITION BY user_data.device_id, user_data.platform)\n",
      "                          WHEN metric_collection_method = 'AVG' THEN\n",
      "                              AVG(CASE WHEN user_data.ds < user_data.first_exposure_ds THEN metric_value ELSE\n",
      "                          (CASE WHEN device_first_seen_ts < user_data.first_exposure_ds - interval '14 day' THEN 0 ELSE NULL END) END) OVER\n",
      "                          (PARTITION BY user_data.device_id, user_data.platform)\n",
      "                    WHEN metric_collection_method = 'SUMGREATERTHAN' THEN\n",
      "                      CASE WHEN (SUM(CASE WHEN user_data.ds < user_data.first_exposure_ds THEN metric_value ELSE\n",
      "                          (CASE WHEN device_first_seen_ts < user_data.first_exposure_ds - interval '14 day' THEN 0 ELSE NULL END) END) OVER\n",
      "                          (PARTITION BY user_data.device_id, user_data.platform)\n",
      "                          ) > 1 THEN 1 ELSE 0 END\n",
      "                          ELSE 0 END::float AS metric_covariate\n",
      "              FROM user_data\n",
      "            )\n",
      "        \n",
      "            -- Cuped values\n",
      "            , cuped_values_1 AS (\n",
      "              SELECT\n",
      "                *,\n",
      "                AVG(metric_covariate) OVER (PARTITION BY metric_name, platform_type) AS before_covariate_average,\n",
      "                AVG(metric_result) OVER (PARTITION BY metric_name, platform_type) AS after_covariate_average,\n",
      "                STDDEV(metric_covariate) OVER (PARTITION BY metric_name, platform_type) AS covariate_standard_dev,\n",
      "                AVG(metric_covariate) OVER (PARTITION BY metric_name) AS before_covariate_average_total,\n",
      "                AVG(metric_result) OVER (PARTITION BY metric_name) AS after_covariate_average_total,\n",
      "                STDDEV(metric_result) OVER (PARTITION BY metric_name) AS covariate_standard_dev_total\n",
      "              FROM metrics\n",
      "            )\n",
      "\n",
      "            , cuped_values_2 AS (\n",
      "              SELECT\n",
      "                *,\n",
      "                AVG(metric_covariate) OVER (PARTITION BY metric_name, platform) AS before_covariate_average,\n",
      "                AVG(metric_result) OVER (PARTITION BY metric_name, platform) AS after_covariate_average,\n",
      "                STDDEV(metric_covariate) OVER (PARTITION BY metric_name, platform) AS covariate_standard_dev\n",
      "              FROM metrics\n",
      "              WHERE platform in ('ROKU','AMAZON','IPHONE','IPAD','ANDROID','SONY','PS4','COMCAST','VIZIO','XBOXONE','SAMSUNG','COX')\n",
      "            )\n",
      "\n",
      "            , cuped_data_1 AS (\n",
      "              SELECT\n",
      "                metric_name,\n",
      "                AVG(metric_covariate) AS covariate_mean,\n",
      "                1.0 * SUM((metric_covariate - before_covariate_average_total)*(metric_result - after_covariate_average_total)) / NULLIF(STDDEV(metric_covariate)*STDDEV(metric_covariate) * COUNT(*), 0) AS theta\n",
      "              FROM cuped_values_1\n",
      "              GROUP BY 1\n",
      "            )\n",
      "\n",
      "            , cuped_data_2 as (\n",
      "              SELECT\n",
      "                metric_name,\n",
      "                platform_type,\n",
      "                AVG(metric_covariate) AS covariate_mean,\n",
      "                1.0 * SUM((metric_covariate - before_covariate_average)*(metric_result - after_covariate_average)) / NULLIF(STDDEV(metric_covariate)*STDDEV(metric_covariate) * COUNT(*), 0) AS theta\n",
      "              FROM cuped_values_1\n",
      "              GROUP BY 1, 2\n",
      "            )\n",
      "\n",
      "            , cuped_data_3 as (\n",
      "              SELECT\n",
      "                metric_name,\n",
      "                platform,\n",
      "                AVG(metric_covariate) AS covariate_mean,\n",
      "                1.0 * SUM((metric_covariate - before_covariate_average)*(metric_result - after_covariate_average)) / NULLIF(STDDEV(metric_covariate)*STDDEV(metric_covariate) * COUNT(*), 0) AS theta\n",
      "              FROM cuped_values_2\n",
      "              GROUP BY 1, 2\n",
      "            )\n",
      "\n",
      "            , cuped_metrics_1 as (\n",
      "              SELECT\n",
      "                device_id,\n",
      "                a.metric_name,\n",
      "                metric_result,\n",
      "                metric_covariate,\n",
      "                COALESCE(metric_result - (metric_covariate - covariate_mean) * theta, metric_result) AS cuped_result\n",
      "              FROM cuped_data_1 AS a\n",
      "                INNER JOIN cuped_values_1 b\n",
      "                  ON a.metric_name = b.metric_name\n",
      "            )\n",
      "\n",
      "            , cuped_metrics_2 as (\n",
      "              SELECT\n",
      "                device_id,\n",
      "                a.metric_name,\n",
      "                a.platform_type AS platform,\n",
      "                metric_result,\n",
      "                metric_covariate,\n",
      "                COALESCE(metric_result - (metric_covariate - covariate_mean) * theta, metric_result) AS cuped_result\n",
      "              FROM cuped_data_2 AS a\n",
      "                INNER JOIN cuped_values_1 AS b\n",
      "                  ON a.platform_type = b.platform_type\n",
      "                  AND a.metric_name = b.metric_name\n",
      "            )\n",
      "\n",
      "            , cuped_metrics_3 as (\n",
      "              SELECT\n",
      "                device_id,\n",
      "                a.metric_name,\n",
      "                a.platform,\n",
      "                metric_result,\n",
      "                metric_covariate,\n",
      "                COALESCE(metric_result - (metric_covariate - covariate_mean) * theta, metric_result) AS cuped_result\n",
      "              FROM cuped_data_3 AS a\n",
      "                INNER JOIN cuped_values_2 AS b\n",
      "                  ON a.platform = b.platform\n",
      "                  AND a.metric_name = b.metric_name\n",
      "            )\n",
      "\n",
      "            , cuped_results AS (\n",
      "                SELECT metric_name,\n",
      "                        'ALL' as platform,\n",
      "                        count(distinct device_id) size,\n",
      "                        avg(metric_result) result_avg,\n",
      "                        STDDEV(metric_result) result_std,\n",
      "                        avg(cuped_result) avg_cuped_result,\n",
      "                        STDDEV(cuped_result) std_cuped_result\n",
      "                FROM cuped_metrics_1\n",
      "                GROUP BY  1, 2\n",
      "\n",
      "                UNION ALL\n",
      "\n",
      "                SELECT metric_name,\n",
      "                       platform,\n",
      "                       COUNT(distinct device_id) size,\n",
      "                       AVG(metric_result) result_avg,\n",
      "                       STDDEV(metric_result) result_std,\n",
      "                       AVG(cuped_result) avg_cuped_result,\n",
      "                       STDDEV(cuped_result) std_cuped_result\n",
      "                FROM cuped_metrics_2\n",
      "                GROUP BY 1, 2\n",
      "\n",
      "                UNION ALL\n",
      "\n",
      "                SELECT metric_name,\n",
      "                       platform,\n",
      "                       COUNT(distinct device_id) size,\n",
      "                       AVG(metric_result) result_avg,\n",
      "                       STDDEV(metric_result) result_std,\n",
      "                       AVG(cuped_result) avg_cuped_result,\n",
      "                       STDDEV(cuped_result) std_cuped_result\n",
      "                FROM cuped_metrics_3\n",
      "                GROUP BY 1, 2\n",
      "            )\n",
      "\n",
      "            SELECT \n",
      "                   metric_name,\n",
      "                   platform,\n",
      "                   size AS observations,\n",
      "                   avg_cuped_result,\n",
      "                   std_cuped_result\n",
      "            FROM cuped_results        \n",
      "            \n"
     ]
    }
   ],
   "source": [
    "step1 = filter_generator().generate_filter_cte(attribute_sql = attribute_filter_str, metric_sql = metric_filter_str)\n",
    "step2 = raw_user_data().generate_raw_user_data_cte()\n",
    "step3 = metric_switcher().generate_user_data_cte(metric_str.result) \n",
    "step4 = metric_summary().generate_metric_summary_cte() \n",
    "step5 = cuped().generate_cuped_cte()\n",
    "\n",
    "FINAL_SQL = step1 + step2 + step3 + step4 + step5\n",
    "\n",
    "# output SQL for debugging purposes; can copy and manually run this elsewhere\n",
    "print(FINAL_SQL)"
   ]
  },
  {
   "cell_type": "code",
   "execution_count": 5,
   "metadata": {},
   "outputs": [],
   "source": [
    "df = tdr.query_redshift(FINAL_SQL).to_df()"
   ]
  },
  {
   "cell_type": "code",
   "execution_count": 6,
   "metadata": {},
   "outputs": [
    {
     "data": {
      "text/html": [
       "<style  type=\"text/css\" >\n",
       "</style><table id=\"T_c858896c_64ec_11eb_bd6c_9aedb8d28823\" ><thead>    <tr>        <th class=\"col_heading level0 col0\" >metric_name</th>        <th class=\"col_heading level0 col1\" >platform</th>        <th class=\"col_heading level0 col2\" >observations</th>        <th class=\"col_heading level0 col3\" >avg_cuped_result</th>        <th class=\"col_heading level0 col4\" >std_cuped_result</th>    </tr></thead><tbody>\n",
       "                <tr>\n",
       "                                <td id=\"T_c858896c_64ec_11eb_bd6c_9aedb8d28823row0_col0\" class=\"data row0 col0\" >visits</td>\n",
       "                        <td id=\"T_c858896c_64ec_11eb_bd6c_9aedb8d28823row0_col1\" class=\"data row0 col1\" >ALL</td>\n",
       "                        <td id=\"T_c858896c_64ec_11eb_bd6c_9aedb8d28823row0_col2\" class=\"data row0 col2\" >37106307</td>\n",
       "                        <td id=\"T_c858896c_64ec_11eb_bd6c_9aedb8d28823row0_col3\" class=\"data row0 col3\" >2.200788</td>\n",
       "                        <td id=\"T_c858896c_64ec_11eb_bd6c_9aedb8d28823row0_col4\" class=\"data row0 col4\" >3.491840</td>\n",
       "            </tr>\n",
       "            <tr>\n",
       "                                <td id=\"T_c858896c_64ec_11eb_bd6c_9aedb8d28823row1_col0\" class=\"data row1 col0\" >visits</td>\n",
       "                        <td id=\"T_c858896c_64ec_11eb_bd6c_9aedb8d28823row1_col1\" class=\"data row1 col1\" >AMAZON</td>\n",
       "                        <td id=\"T_c858896c_64ec_11eb_bd6c_9aedb8d28823row1_col2\" class=\"data row1 col2\" >3671633</td>\n",
       "                        <td id=\"T_c858896c_64ec_11eb_bd6c_9aedb8d28823row1_col3\" class=\"data row1 col3\" >2.406100</td>\n",
       "                        <td id=\"T_c858896c_64ec_11eb_bd6c_9aedb8d28823row1_col4\" class=\"data row1 col4\" >3.142490</td>\n",
       "            </tr>\n",
       "            <tr>\n",
       "                                <td id=\"T_c858896c_64ec_11eb_bd6c_9aedb8d28823row2_col0\" class=\"data row2 col0\" >visits</td>\n",
       "                        <td id=\"T_c858896c_64ec_11eb_bd6c_9aedb8d28823row2_col1\" class=\"data row2 col1\" >ANDROID</td>\n",
       "                        <td id=\"T_c858896c_64ec_11eb_bd6c_9aedb8d28823row2_col2\" class=\"data row2 col2\" >6903997</td>\n",
       "                        <td id=\"T_c858896c_64ec_11eb_bd6c_9aedb8d28823row2_col3\" class=\"data row2 col3\" >2.751295</td>\n",
       "                        <td id=\"T_c858896c_64ec_11eb_bd6c_9aedb8d28823row2_col4\" class=\"data row2 col4\" >4.526067</td>\n",
       "            </tr>\n",
       "            <tr>\n",
       "                                <td id=\"T_c858896c_64ec_11eb_bd6c_9aedb8d28823row3_col0\" class=\"data row3 col0\" >visits</td>\n",
       "                        <td id=\"T_c858896c_64ec_11eb_bd6c_9aedb8d28823row3_col1\" class=\"data row3 col1\" >COMCAST</td>\n",
       "                        <td id=\"T_c858896c_64ec_11eb_bd6c_9aedb8d28823row3_col2\" class=\"data row3 col2\" >2369752</td>\n",
       "                        <td id=\"T_c858896c_64ec_11eb_bd6c_9aedb8d28823row3_col3\" class=\"data row3 col3\" >2.104676</td>\n",
       "                        <td id=\"T_c858896c_64ec_11eb_bd6c_9aedb8d28823row3_col4\" class=\"data row3 col4\" >2.833476</td>\n",
       "            </tr>\n",
       "            <tr>\n",
       "                                <td id=\"T_c858896c_64ec_11eb_bd6c_9aedb8d28823row4_col0\" class=\"data row4 col0\" >visits</td>\n",
       "                        <td id=\"T_c858896c_64ec_11eb_bd6c_9aedb8d28823row4_col1\" class=\"data row4 col1\" >COX</td>\n",
       "                        <td id=\"T_c858896c_64ec_11eb_bd6c_9aedb8d28823row4_col2\" class=\"data row4 col2\" >248853</td>\n",
       "                        <td id=\"T_c858896c_64ec_11eb_bd6c_9aedb8d28823row4_col3\" class=\"data row4 col3\" >2.423081</td>\n",
       "                        <td id=\"T_c858896c_64ec_11eb_bd6c_9aedb8d28823row4_col4\" class=\"data row4 col4\" >3.082410</td>\n",
       "            </tr>\n",
       "            <tr>\n",
       "                                <td id=\"T_c858896c_64ec_11eb_bd6c_9aedb8d28823row5_col0\" class=\"data row5 col0\" >visits</td>\n",
       "                        <td id=\"T_c858896c_64ec_11eb_bd6c_9aedb8d28823row5_col1\" class=\"data row5 col1\" >IPAD</td>\n",
       "                        <td id=\"T_c858896c_64ec_11eb_bd6c_9aedb8d28823row5_col2\" class=\"data row5 col2\" >551662</td>\n",
       "                        <td id=\"T_c858896c_64ec_11eb_bd6c_9aedb8d28823row5_col3\" class=\"data row5 col3\" >2.666239</td>\n",
       "                        <td id=\"T_c858896c_64ec_11eb_bd6c_9aedb8d28823row5_col4\" class=\"data row5 col4\" >4.051730</td>\n",
       "            </tr>\n",
       "            <tr>\n",
       "                                <td id=\"T_c858896c_64ec_11eb_bd6c_9aedb8d28823row6_col0\" class=\"data row6 col0\" >visits</td>\n",
       "                        <td id=\"T_c858896c_64ec_11eb_bd6c_9aedb8d28823row6_col1\" class=\"data row6 col1\" >IPHONE</td>\n",
       "                        <td id=\"T_c858896c_64ec_11eb_bd6c_9aedb8d28823row6_col2\" class=\"data row6 col2\" >3435476</td>\n",
       "                        <td id=\"T_c858896c_64ec_11eb_bd6c_9aedb8d28823row6_col3\" class=\"data row6 col3\" >2.261779</td>\n",
       "                        <td id=\"T_c858896c_64ec_11eb_bd6c_9aedb8d28823row6_col4\" class=\"data row6 col4\" >3.757106</td>\n",
       "            </tr>\n",
       "            <tr>\n",
       "                                <td id=\"T_c858896c_64ec_11eb_bd6c_9aedb8d28823row7_col0\" class=\"data row7 col0\" >visits</td>\n",
       "                        <td id=\"T_c858896c_64ec_11eb_bd6c_9aedb8d28823row7_col1\" class=\"data row7 col1\" >MOBILE</td>\n",
       "                        <td id=\"T_c858896c_64ec_11eb_bd6c_9aedb8d28823row7_col2\" class=\"data row7 col2\" >11025427</td>\n",
       "                        <td id=\"T_c858896c_64ec_11eb_bd6c_9aedb8d28823row7_col3\" class=\"data row7 col3\" >2.600186</td>\n",
       "                        <td id=\"T_c858896c_64ec_11eb_bd6c_9aedb8d28823row7_col4\" class=\"data row7 col4\" >4.279469</td>\n",
       "            </tr>\n",
       "            <tr>\n",
       "                                <td id=\"T_c858896c_64ec_11eb_bd6c_9aedb8d28823row8_col0\" class=\"data row8 col0\" >visits</td>\n",
       "                        <td id=\"T_c858896c_64ec_11eb_bd6c_9aedb8d28823row8_col1\" class=\"data row8 col1\" >OTT</td>\n",
       "                        <td id=\"T_c858896c_64ec_11eb_bd6c_9aedb8d28823row8_col2\" class=\"data row8 col2\" >19646921</td>\n",
       "                        <td id=\"T_c858896c_64ec_11eb_bd6c_9aedb8d28823row8_col3\" class=\"data row8 col3\" >2.365868</td>\n",
       "                        <td id=\"T_c858896c_64ec_11eb_bd6c_9aedb8d28823row8_col4\" class=\"data row8 col4\" >3.272940</td>\n",
       "            </tr>\n",
       "            <tr>\n",
       "                                <td id=\"T_c858896c_64ec_11eb_bd6c_9aedb8d28823row9_col0\" class=\"data row9 col0\" >visits</td>\n",
       "                        <td id=\"T_c858896c_64ec_11eb_bd6c_9aedb8d28823row9_col1\" class=\"data row9 col1\" >PS4</td>\n",
       "                        <td id=\"T_c858896c_64ec_11eb_bd6c_9aedb8d28823row9_col2\" class=\"data row9 col2\" >535599</td>\n",
       "                        <td id=\"T_c858896c_64ec_11eb_bd6c_9aedb8d28823row9_col3\" class=\"data row9 col3\" >2.439700</td>\n",
       "                        <td id=\"T_c858896c_64ec_11eb_bd6c_9aedb8d28823row9_col4\" class=\"data row9 col4\" >3.831668</td>\n",
       "            </tr>\n",
       "            <tr>\n",
       "                                <td id=\"T_c858896c_64ec_11eb_bd6c_9aedb8d28823row10_col0\" class=\"data row10 col0\" >visits</td>\n",
       "                        <td id=\"T_c858896c_64ec_11eb_bd6c_9aedb8d28823row10_col1\" class=\"data row10 col1\" >ROKU</td>\n",
       "                        <td id=\"T_c858896c_64ec_11eb_bd6c_9aedb8d28823row10_col2\" class=\"data row10 col2\" >6956482</td>\n",
       "                        <td id=\"T_c858896c_64ec_11eb_bd6c_9aedb8d28823row10_col3\" class=\"data row10 col3\" >2.798015</td>\n",
       "                        <td id=\"T_c858896c_64ec_11eb_bd6c_9aedb8d28823row10_col4\" class=\"data row10 col4\" >3.613926</td>\n",
       "            </tr>\n",
       "            <tr>\n",
       "                                <td id=\"T_c858896c_64ec_11eb_bd6c_9aedb8d28823row11_col0\" class=\"data row11 col0\" >visits</td>\n",
       "                        <td id=\"T_c858896c_64ec_11eb_bd6c_9aedb8d28823row11_col1\" class=\"data row11 col1\" >SAMSUNG</td>\n",
       "                        <td id=\"T_c858896c_64ec_11eb_bd6c_9aedb8d28823row11_col2\" class=\"data row11 col2\" >2138933</td>\n",
       "                        <td id=\"T_c858896c_64ec_11eb_bd6c_9aedb8d28823row11_col3\" class=\"data row11 col3\" >1.725469</td>\n",
       "                        <td id=\"T_c858896c_64ec_11eb_bd6c_9aedb8d28823row11_col4\" class=\"data row11 col4\" >2.753501</td>\n",
       "            </tr>\n",
       "            <tr>\n",
       "                                <td id=\"T_c858896c_64ec_11eb_bd6c_9aedb8d28823row12_col0\" class=\"data row12 col0\" >visits</td>\n",
       "                        <td id=\"T_c858896c_64ec_11eb_bd6c_9aedb8d28823row12_col1\" class=\"data row12 col1\" >SONY</td>\n",
       "                        <td id=\"T_c858896c_64ec_11eb_bd6c_9aedb8d28823row12_col2\" class=\"data row12 col2\" >158628</td>\n",
       "                        <td id=\"T_c858896c_64ec_11eb_bd6c_9aedb8d28823row12_col3\" class=\"data row12 col3\" >2.168886</td>\n",
       "                        <td id=\"T_c858896c_64ec_11eb_bd6c_9aedb8d28823row12_col4\" class=\"data row12 col4\" >3.355015</td>\n",
       "            </tr>\n",
       "            <tr>\n",
       "                                <td id=\"T_c858896c_64ec_11eb_bd6c_9aedb8d28823row13_col0\" class=\"data row13 col0\" >visits</td>\n",
       "                        <td id=\"T_c858896c_64ec_11eb_bd6c_9aedb8d28823row13_col1\" class=\"data row13 col1\" >VIZIO</td>\n",
       "                        <td id=\"T_c858896c_64ec_11eb_bd6c_9aedb8d28823row13_col2\" class=\"data row13 col2\" >1247785</td>\n",
       "                        <td id=\"T_c858896c_64ec_11eb_bd6c_9aedb8d28823row13_col3\" class=\"data row13 col3\" >1.897324</td>\n",
       "                        <td id=\"T_c858896c_64ec_11eb_bd6c_9aedb8d28823row13_col4\" class=\"data row13 col4\" >2.781288</td>\n",
       "            </tr>\n",
       "            <tr>\n",
       "                                <td id=\"T_c858896c_64ec_11eb_bd6c_9aedb8d28823row14_col0\" class=\"data row14 col0\" >visits</td>\n",
       "                        <td id=\"T_c858896c_64ec_11eb_bd6c_9aedb8d28823row14_col1\" class=\"data row14 col1\" >WEB</td>\n",
       "                        <td id=\"T_c858896c_64ec_11eb_bd6c_9aedb8d28823row14_col2\" class=\"data row14 col2\" >6434239</td>\n",
       "                        <td id=\"T_c858896c_64ec_11eb_bd6c_9aedb8d28823row14_col3\" class=\"data row14 col3\" >1.011939</td>\n",
       "                        <td id=\"T_c858896c_64ec_11eb_bd6c_9aedb8d28823row14_col4\" class=\"data row14 col4\" >2.226190</td>\n",
       "            </tr>\n",
       "            <tr>\n",
       "                                <td id=\"T_c858896c_64ec_11eb_bd6c_9aedb8d28823row15_col0\" class=\"data row15 col0\" >visits</td>\n",
       "                        <td id=\"T_c858896c_64ec_11eb_bd6c_9aedb8d28823row15_col1\" class=\"data row15 col1\" >XBOXONE</td>\n",
       "                        <td id=\"T_c858896c_64ec_11eb_bd6c_9aedb8d28823row15_col2\" class=\"data row15 col2\" >403804</td>\n",
       "                        <td id=\"T_c858896c_64ec_11eb_bd6c_9aedb8d28823row15_col3\" class=\"data row15 col3\" >2.759755</td>\n",
       "                        <td id=\"T_c858896c_64ec_11eb_bd6c_9aedb8d28823row15_col4\" class=\"data row15 col4\" >3.987419</td>\n",
       "            </tr>\n",
       "    </tbody></table>"
      ],
      "text/plain": [
       "<pandas.io.formats.style.Styler at 0x7f38eec620d0>"
      ]
     },
     "execution_count": 6,
     "metadata": {},
     "output_type": "execute_result"
    }
   ],
   "source": [
    "df.sort_values('platform').style\\\n",
    "    .hide_index()\\"
   ]
  },
  {
   "cell_type": "markdown",
   "metadata": {},
   "source": [
    "## Sample size results"
   ]
  },
  {
   "cell_type": "code",
   "execution_count": 7,
   "metadata": {},
   "outputs": [
    {
     "data": {
      "text/html": [
       "<style  type=\"text/css\" >\n",
       "</style><table id=\"T_c869c5e2_64ec_11eb_bd6c_9aedb8d28823\" ><thead>    <tr>        <th class=\"col_heading level0 col0\" >metric_name</th>        <th class=\"col_heading level0 col1\" >platform</th>        <th class=\"col_heading level0 col2\" >observations</th>        <th class=\"col_heading level0 col3\" >avg_cuped_result</th>        <th class=\"col_heading level0 col4\" >std_cuped_result</th>        <th class=\"col_heading level0 col5\" >sample_required</th>        <th class=\"col_heading level0 col6\" >weeks_required</th>    </tr></thead><tbody>\n",
       "                <tr>\n",
       "                                <td id=\"T_c869c5e2_64ec_11eb_bd6c_9aedb8d28823row0_col0\" class=\"data row0 col0\" >visits</td>\n",
       "                        <td id=\"T_c869c5e2_64ec_11eb_bd6c_9aedb8d28823row0_col1\" class=\"data row0 col1\" >ALL</td>\n",
       "                        <td id=\"T_c869c5e2_64ec_11eb_bd6c_9aedb8d28823row0_col2\" class=\"data row0 col2\" >37106307</td>\n",
       "                        <td id=\"T_c869c5e2_64ec_11eb_bd6c_9aedb8d28823row0_col3\" class=\"data row0 col3\" >2.201</td>\n",
       "                        <td id=\"T_c869c5e2_64ec_11eb_bd6c_9aedb8d28823row0_col4\" class=\"data row0 col4\" >3.492</td>\n",
       "                        <td id=\"T_c869c5e2_64ec_11eb_bd6c_9aedb8d28823row0_col5\" class=\"data row0 col5\" >395175.000</td>\n",
       "                        <td id=\"T_c869c5e2_64ec_11eb_bd6c_9aedb8d28823row0_col6\" class=\"data row0 col6\" >0.043</td>\n",
       "            </tr>\n",
       "            <tr>\n",
       "                                <td id=\"T_c869c5e2_64ec_11eb_bd6c_9aedb8d28823row1_col0\" class=\"data row1 col0\" >visits</td>\n",
       "                        <td id=\"T_c869c5e2_64ec_11eb_bd6c_9aedb8d28823row1_col1\" class=\"data row1 col1\" >AMAZON</td>\n",
       "                        <td id=\"T_c869c5e2_64ec_11eb_bd6c_9aedb8d28823row1_col2\" class=\"data row1 col2\" >3671633</td>\n",
       "                        <td id=\"T_c869c5e2_64ec_11eb_bd6c_9aedb8d28823row1_col3\" class=\"data row1 col3\" >2.406</td>\n",
       "                        <td id=\"T_c869c5e2_64ec_11eb_bd6c_9aedb8d28823row1_col4\" class=\"data row1 col4\" >3.142</td>\n",
       "                        <td id=\"T_c869c5e2_64ec_11eb_bd6c_9aedb8d28823row1_col5\" class=\"data row1 col5\" >267768.000</td>\n",
       "                        <td id=\"T_c869c5e2_64ec_11eb_bd6c_9aedb8d28823row1_col6\" class=\"data row1 col6\" >0.292</td>\n",
       "            </tr>\n",
       "            <tr>\n",
       "                                <td id=\"T_c869c5e2_64ec_11eb_bd6c_9aedb8d28823row2_col0\" class=\"data row2 col0\" >visits</td>\n",
       "                        <td id=\"T_c869c5e2_64ec_11eb_bd6c_9aedb8d28823row2_col1\" class=\"data row2 col1\" >ANDROID</td>\n",
       "                        <td id=\"T_c869c5e2_64ec_11eb_bd6c_9aedb8d28823row2_col2\" class=\"data row2 col2\" >6903997</td>\n",
       "                        <td id=\"T_c869c5e2_64ec_11eb_bd6c_9aedb8d28823row2_col3\" class=\"data row2 col3\" >2.751</td>\n",
       "                        <td id=\"T_c869c5e2_64ec_11eb_bd6c_9aedb8d28823row2_col4\" class=\"data row2 col4\" >4.526</td>\n",
       "                        <td id=\"T_c869c5e2_64ec_11eb_bd6c_9aedb8d28823row2_col5\" class=\"data row2 col5\" >424820.000</td>\n",
       "                        <td id=\"T_c869c5e2_64ec_11eb_bd6c_9aedb8d28823row2_col6\" class=\"data row2 col6\" >0.246</td>\n",
       "            </tr>\n",
       "            <tr>\n",
       "                                <td id=\"T_c869c5e2_64ec_11eb_bd6c_9aedb8d28823row3_col0\" class=\"data row3 col0\" >visits</td>\n",
       "                        <td id=\"T_c869c5e2_64ec_11eb_bd6c_9aedb8d28823row3_col1\" class=\"data row3 col1\" >COMCAST</td>\n",
       "                        <td id=\"T_c869c5e2_64ec_11eb_bd6c_9aedb8d28823row3_col2\" class=\"data row3 col2\" >2369752</td>\n",
       "                        <td id=\"T_c869c5e2_64ec_11eb_bd6c_9aedb8d28823row3_col3\" class=\"data row3 col3\" >2.105</td>\n",
       "                        <td id=\"T_c869c5e2_64ec_11eb_bd6c_9aedb8d28823row3_col4\" class=\"data row3 col4\" >2.833</td>\n",
       "                        <td id=\"T_c869c5e2_64ec_11eb_bd6c_9aedb8d28823row3_col5\" class=\"data row3 col5\" >284516.000</td>\n",
       "                        <td id=\"T_c869c5e2_64ec_11eb_bd6c_9aedb8d28823row3_col6\" class=\"data row3 col6\" >0.480</td>\n",
       "            </tr>\n",
       "            <tr>\n",
       "                                <td id=\"T_c869c5e2_64ec_11eb_bd6c_9aedb8d28823row4_col0\" class=\"data row4 col0\" >visits</td>\n",
       "                        <td id=\"T_c869c5e2_64ec_11eb_bd6c_9aedb8d28823row4_col1\" class=\"data row4 col1\" >COX</td>\n",
       "                        <td id=\"T_c869c5e2_64ec_11eb_bd6c_9aedb8d28823row4_col2\" class=\"data row4 col2\" >248853</td>\n",
       "                        <td id=\"T_c869c5e2_64ec_11eb_bd6c_9aedb8d28823row4_col3\" class=\"data row4 col3\" >2.423</td>\n",
       "                        <td id=\"T_c869c5e2_64ec_11eb_bd6c_9aedb8d28823row4_col4\" class=\"data row4 col4\" >3.082</td>\n",
       "                        <td id=\"T_c869c5e2_64ec_11eb_bd6c_9aedb8d28823row4_col5\" class=\"data row4 col5\" >254029.000</td>\n",
       "                        <td id=\"T_c869c5e2_64ec_11eb_bd6c_9aedb8d28823row4_col6\" class=\"data row4 col6\" >4.083</td>\n",
       "            </tr>\n",
       "            <tr>\n",
       "                                <td id=\"T_c869c5e2_64ec_11eb_bd6c_9aedb8d28823row5_col0\" class=\"data row5 col0\" >visits</td>\n",
       "                        <td id=\"T_c869c5e2_64ec_11eb_bd6c_9aedb8d28823row5_col1\" class=\"data row5 col1\" >IPAD</td>\n",
       "                        <td id=\"T_c869c5e2_64ec_11eb_bd6c_9aedb8d28823row5_col2\" class=\"data row5 col2\" >551662</td>\n",
       "                        <td id=\"T_c869c5e2_64ec_11eb_bd6c_9aedb8d28823row5_col3\" class=\"data row5 col3\" >2.666</td>\n",
       "                        <td id=\"T_c869c5e2_64ec_11eb_bd6c_9aedb8d28823row5_col4\" class=\"data row5 col4\" >4.052</td>\n",
       "                        <td id=\"T_c869c5e2_64ec_11eb_bd6c_9aedb8d28823row5_col5\" class=\"data row5 col5\" >362510.000</td>\n",
       "                        <td id=\"T_c869c5e2_64ec_11eb_bd6c_9aedb8d28823row5_col6\" class=\"data row5 col6\" >2.628</td>\n",
       "            </tr>\n",
       "            <tr>\n",
       "                                <td id=\"T_c869c5e2_64ec_11eb_bd6c_9aedb8d28823row6_col0\" class=\"data row6 col0\" >visits</td>\n",
       "                        <td id=\"T_c869c5e2_64ec_11eb_bd6c_9aedb8d28823row6_col1\" class=\"data row6 col1\" >IPHONE</td>\n",
       "                        <td id=\"T_c869c5e2_64ec_11eb_bd6c_9aedb8d28823row6_col2\" class=\"data row6 col2\" >3435476</td>\n",
       "                        <td id=\"T_c869c5e2_64ec_11eb_bd6c_9aedb8d28823row6_col3\" class=\"data row6 col3\" >2.262</td>\n",
       "                        <td id=\"T_c869c5e2_64ec_11eb_bd6c_9aedb8d28823row6_col4\" class=\"data row6 col4\" >3.757</td>\n",
       "                        <td id=\"T_c869c5e2_64ec_11eb_bd6c_9aedb8d28823row6_col5\" class=\"data row6 col5\" >433156.000</td>\n",
       "                        <td id=\"T_c869c5e2_64ec_11eb_bd6c_9aedb8d28823row6_col6\" class=\"data row6 col6\" >0.504</td>\n",
       "            </tr>\n",
       "            <tr>\n",
       "                                <td id=\"T_c869c5e2_64ec_11eb_bd6c_9aedb8d28823row7_col0\" class=\"data row7 col0\" >visits</td>\n",
       "                        <td id=\"T_c869c5e2_64ec_11eb_bd6c_9aedb8d28823row7_col1\" class=\"data row7 col1\" >MOBILE</td>\n",
       "                        <td id=\"T_c869c5e2_64ec_11eb_bd6c_9aedb8d28823row7_col2\" class=\"data row7 col2\" >11025427</td>\n",
       "                        <td id=\"T_c869c5e2_64ec_11eb_bd6c_9aedb8d28823row7_col3\" class=\"data row7 col3\" >2.600</td>\n",
       "                        <td id=\"T_c869c5e2_64ec_11eb_bd6c_9aedb8d28823row7_col4\" class=\"data row7 col4\" >4.279</td>\n",
       "                        <td id=\"T_c869c5e2_64ec_11eb_bd6c_9aedb8d28823row7_col5\" class=\"data row7 col5\" >425215.000</td>\n",
       "                        <td id=\"T_c869c5e2_64ec_11eb_bd6c_9aedb8d28823row7_col6\" class=\"data row7 col6\" >0.154</td>\n",
       "            </tr>\n",
       "            <tr>\n",
       "                                <td id=\"T_c869c5e2_64ec_11eb_bd6c_9aedb8d28823row8_col0\" class=\"data row8 col0\" >visits</td>\n",
       "                        <td id=\"T_c869c5e2_64ec_11eb_bd6c_9aedb8d28823row8_col1\" class=\"data row8 col1\" >OTT</td>\n",
       "                        <td id=\"T_c869c5e2_64ec_11eb_bd6c_9aedb8d28823row8_col2\" class=\"data row8 col2\" >19646921</td>\n",
       "                        <td id=\"T_c869c5e2_64ec_11eb_bd6c_9aedb8d28823row8_col3\" class=\"data row8 col3\" >2.366</td>\n",
       "                        <td id=\"T_c869c5e2_64ec_11eb_bd6c_9aedb8d28823row8_col4\" class=\"data row8 col4\" >3.273</td>\n",
       "                        <td id=\"T_c869c5e2_64ec_11eb_bd6c_9aedb8d28823row8_col5\" class=\"data row8 col5\" >300423.000</td>\n",
       "                        <td id=\"T_c869c5e2_64ec_11eb_bd6c_9aedb8d28823row8_col6\" class=\"data row8 col6\" >0.061</td>\n",
       "            </tr>\n",
       "            <tr>\n",
       "                                <td id=\"T_c869c5e2_64ec_11eb_bd6c_9aedb8d28823row9_col0\" class=\"data row9 col0\" >visits</td>\n",
       "                        <td id=\"T_c869c5e2_64ec_11eb_bd6c_9aedb8d28823row9_col1\" class=\"data row9 col1\" >PS4</td>\n",
       "                        <td id=\"T_c869c5e2_64ec_11eb_bd6c_9aedb8d28823row9_col2\" class=\"data row9 col2\" >535599</td>\n",
       "                        <td id=\"T_c869c5e2_64ec_11eb_bd6c_9aedb8d28823row9_col3\" class=\"data row9 col3\" >2.440</td>\n",
       "                        <td id=\"T_c869c5e2_64ec_11eb_bd6c_9aedb8d28823row9_col4\" class=\"data row9 col4\" >3.832</td>\n",
       "                        <td id=\"T_c869c5e2_64ec_11eb_bd6c_9aedb8d28823row9_col5\" class=\"data row9 col5\" >387205.000</td>\n",
       "                        <td id=\"T_c869c5e2_64ec_11eb_bd6c_9aedb8d28823row9_col6\" class=\"data row9 col6\" >2.892</td>\n",
       "            </tr>\n",
       "            <tr>\n",
       "                                <td id=\"T_c869c5e2_64ec_11eb_bd6c_9aedb8d28823row10_col0\" class=\"data row10 col0\" >visits</td>\n",
       "                        <td id=\"T_c869c5e2_64ec_11eb_bd6c_9aedb8d28823row10_col1\" class=\"data row10 col1\" >ROKU</td>\n",
       "                        <td id=\"T_c869c5e2_64ec_11eb_bd6c_9aedb8d28823row10_col2\" class=\"data row10 col2\" >6956482</td>\n",
       "                        <td id=\"T_c869c5e2_64ec_11eb_bd6c_9aedb8d28823row10_col3\" class=\"data row10 col3\" >2.798</td>\n",
       "                        <td id=\"T_c869c5e2_64ec_11eb_bd6c_9aedb8d28823row10_col4\" class=\"data row10 col4\" >3.614</td>\n",
       "                        <td id=\"T_c869c5e2_64ec_11eb_bd6c_9aedb8d28823row10_col5\" class=\"data row10 col5\" >261877.000</td>\n",
       "                        <td id=\"T_c869c5e2_64ec_11eb_bd6c_9aedb8d28823row10_col6\" class=\"data row10 col6\" >0.151</td>\n",
       "            </tr>\n",
       "            <tr>\n",
       "                                <td id=\"T_c869c5e2_64ec_11eb_bd6c_9aedb8d28823row11_col0\" class=\"data row11 col0\" >visits</td>\n",
       "                        <td id=\"T_c869c5e2_64ec_11eb_bd6c_9aedb8d28823row11_col1\" class=\"data row11 col1\" >SAMSUNG</td>\n",
       "                        <td id=\"T_c869c5e2_64ec_11eb_bd6c_9aedb8d28823row11_col2\" class=\"data row11 col2\" >2138933</td>\n",
       "                        <td id=\"T_c869c5e2_64ec_11eb_bd6c_9aedb8d28823row11_col3\" class=\"data row11 col3\" >1.725</td>\n",
       "                        <td id=\"T_c869c5e2_64ec_11eb_bd6c_9aedb8d28823row11_col4\" class=\"data row11 col4\" >2.754</td>\n",
       "                        <td id=\"T_c869c5e2_64ec_11eb_bd6c_9aedb8d28823row11_col5\" class=\"data row11 col5\" >399755.000</td>\n",
       "                        <td id=\"T_c869c5e2_64ec_11eb_bd6c_9aedb8d28823row11_col6\" class=\"data row11 col6\" >0.748</td>\n",
       "            </tr>\n",
       "            <tr>\n",
       "                                <td id=\"T_c869c5e2_64ec_11eb_bd6c_9aedb8d28823row12_col0\" class=\"data row12 col0\" >visits</td>\n",
       "                        <td id=\"T_c869c5e2_64ec_11eb_bd6c_9aedb8d28823row12_col1\" class=\"data row12 col1\" >SONY</td>\n",
       "                        <td id=\"T_c869c5e2_64ec_11eb_bd6c_9aedb8d28823row12_col2\" class=\"data row12 col2\" >158628</td>\n",
       "                        <td id=\"T_c869c5e2_64ec_11eb_bd6c_9aedb8d28823row12_col3\" class=\"data row12 col3\" >2.169</td>\n",
       "                        <td id=\"T_c869c5e2_64ec_11eb_bd6c_9aedb8d28823row12_col4\" class=\"data row12 col4\" >3.355</td>\n",
       "                        <td id=\"T_c869c5e2_64ec_11eb_bd6c_9aedb8d28823row12_col5\" class=\"data row12 col5\" >375624.000</td>\n",
       "                        <td id=\"T_c869c5e2_64ec_11eb_bd6c_9aedb8d28823row12_col6\" class=\"data row12 col6\" >9.472</td>\n",
       "            </tr>\n",
       "            <tr>\n",
       "                                <td id=\"T_c869c5e2_64ec_11eb_bd6c_9aedb8d28823row13_col0\" class=\"data row13 col0\" >visits</td>\n",
       "                        <td id=\"T_c869c5e2_64ec_11eb_bd6c_9aedb8d28823row13_col1\" class=\"data row13 col1\" >VIZIO</td>\n",
       "                        <td id=\"T_c869c5e2_64ec_11eb_bd6c_9aedb8d28823row13_col2\" class=\"data row13 col2\" >1247785</td>\n",
       "                        <td id=\"T_c869c5e2_64ec_11eb_bd6c_9aedb8d28823row13_col3\" class=\"data row13 col3\" >1.897</td>\n",
       "                        <td id=\"T_c869c5e2_64ec_11eb_bd6c_9aedb8d28823row13_col4\" class=\"data row13 col4\" >2.781</td>\n",
       "                        <td id=\"T_c869c5e2_64ec_11eb_bd6c_9aedb8d28823row13_col5\" class=\"data row13 col5\" >337323.000</td>\n",
       "                        <td id=\"T_c869c5e2_64ec_11eb_bd6c_9aedb8d28823row13_col6\" class=\"data row13 col6\" >1.081</td>\n",
       "            </tr>\n",
       "            <tr>\n",
       "                                <td id=\"T_c869c5e2_64ec_11eb_bd6c_9aedb8d28823row14_col0\" class=\"data row14 col0\" >visits</td>\n",
       "                        <td id=\"T_c869c5e2_64ec_11eb_bd6c_9aedb8d28823row14_col1\" class=\"data row14 col1\" >WEB</td>\n",
       "                        <td id=\"T_c869c5e2_64ec_11eb_bd6c_9aedb8d28823row14_col2\" class=\"data row14 col2\" >6434239</td>\n",
       "                        <td id=\"T_c869c5e2_64ec_11eb_bd6c_9aedb8d28823row14_col3\" class=\"data row14 col3\" >1.012</td>\n",
       "                        <td id=\"T_c869c5e2_64ec_11eb_bd6c_9aedb8d28823row14_col4\" class=\"data row14 col4\" >2.226</td>\n",
       "                        <td id=\"T_c869c5e2_64ec_11eb_bd6c_9aedb8d28823row14_col5\" class=\"data row14 col5\" >759719.000</td>\n",
       "                        <td id=\"T_c869c5e2_64ec_11eb_bd6c_9aedb8d28823row14_col6\" class=\"data row14 col6\" >0.472</td>\n",
       "            </tr>\n",
       "            <tr>\n",
       "                                <td id=\"T_c869c5e2_64ec_11eb_bd6c_9aedb8d28823row15_col0\" class=\"data row15 col0\" >visits</td>\n",
       "                        <td id=\"T_c869c5e2_64ec_11eb_bd6c_9aedb8d28823row15_col1\" class=\"data row15 col1\" >XBOXONE</td>\n",
       "                        <td id=\"T_c869c5e2_64ec_11eb_bd6c_9aedb8d28823row15_col2\" class=\"data row15 col2\" >403804</td>\n",
       "                        <td id=\"T_c869c5e2_64ec_11eb_bd6c_9aedb8d28823row15_col3\" class=\"data row15 col3\" >2.760</td>\n",
       "                        <td id=\"T_c869c5e2_64ec_11eb_bd6c_9aedb8d28823row15_col4\" class=\"data row15 col4\" >3.987</td>\n",
       "                        <td id=\"T_c869c5e2_64ec_11eb_bd6c_9aedb8d28823row15_col5\" class=\"data row15 col5\" >327703.000</td>\n",
       "                        <td id=\"T_c869c5e2_64ec_11eb_bd6c_9aedb8d28823row15_col6\" class=\"data row15 col6\" >3.246</td>\n",
       "            </tr>\n",
       "    </tbody></table>"
      ],
      "text/plain": [
       "<pandas.io.formats.style.Styler at 0x7f38ef492f90>"
      ]
     },
     "execution_count": 7,
     "metadata": {},
     "output_type": "execute_result"
    }
   ],
   "source": [
    "import warnings\n",
    "from statsmodels.tools.sm_exceptions import ConvergenceWarning\n",
    "warnings.simplefilter('ignore', ConvergenceWarning)\n",
    "\n",
    "# ---------- Constants ---------- # \n",
    "COL_NAME_P = 'avg_cuped_result'\n",
    "STD_COL_NAME = 'std_cuped_result'\n",
    "RATIO = 1\n",
    "SAMPLING = 1  # TODO: make this dynamic between 1 and 1000 for sampled analytics\n",
    "\n",
    "CORRECTED_ALPHA = ALPHA.result / NUMBER_VARIATIONS.result\n",
    "P2_MULTIPLICATIVE_FACTOR =  1 + EFFECT_SIZE_RELATIVE.result\n",
    "    \n",
    "# ---------- Functions --------- # \n",
    "def sample_power_ttest(p1, p2, sd_diff, alpha=0.05, power=0.8, ratio=1, alternative = 'two-sided'):\n",
    "    mean_diff = abs(p2 - p1)\n",
    "    std_effect_size = np.divide(mean_diff, sd_diff)\n",
    "    n = tt_ind_solve_power(effect_size=std_effect_size, \n",
    "                         alpha=alpha, \n",
    "                         power=power, \n",
    "                         ratio=ratio, \n",
    "                         alternative=alternative) # Potential improvement: make this able to handle one-sided tests\n",
    "    return np.array(n).round()\n",
    "\n",
    "# ---------- Implementation ---------- #\n",
    "df['sample_required'] =  df.apply(lambda row: sample_power_ttest(\n",
    "    p1 = row[COL_NAME_P],\n",
    "    p2 = row[COL_NAME_P] * P2_MULTIPLICATIVE_FACTOR,\n",
    "    sd_diff = row[STD_COL_NAME],\n",
    "    alpha = CORRECTED_ALPHA,\n",
    "    power = POWER.result,\n",
    "    ratio = RATIO)\n",
    "                                  , axis=1)\n",
    "\n",
    "df['weeks_required'] = np.divide(df['sample_required'], (df['observations'] * 0.5 * ALLOCATION.result * SAMPLING))\n",
    "df['sample_required'] = df['sample_required'].astype('float')\n",
    "df['weeks_required'] = df['weeks_required'].astype('float')\n",
    "\n",
    "df.sort_values('platform').style\\\n",
    "    .hide_index()\\\n",
    "    .set_precision(3)\\\n",
    "    "
   ]
  },
  {
   "cell_type": "markdown",
   "metadata": {},
   "source": [
    "# APPENDIX"
   ]
  },
  {
   "cell_type": "markdown",
   "metadata": {},
   "source": [
    "## Workflow\n",
    "\n",
    "The general workflow of this tool (for internal; will alter the description of this section to be more user friendly in the future):\n",
    "\n",
    "### 1. User filtering\n",
    "The goal of this section is to pull a list of specific users that are eligible for the experiment. This is where the bulk of our efforts will be focused. \n",
    "- We want this to be dynamic based on the complexity of any filters (see 3 levels below)\n",
    "- We also want this to be interactable, to minimize the amount of adhoc SQL coding. It's daunting (and unscalable) for our stakeholders to alter the SQL in our current calculator to fit their specific needs. \n",
    "\n",
    "##### 3 different levels, in order of complexity (easiest to hardest):\n",
    "1. device_metric_daily\n",
    "    - all_metric_hourly covers the same metrics/attributes available for filtering, although device_metric_daily will be more performant\n",
    "2. all_metric_hourly \n",
    "3. analytics_richevent\n",
    "    \n",
    "For our first prototype, we're only using all_metric_hourly to cover most filtering cases. To achieve a higher level of filtering flexibilty, we will include analytics_richevent. To reduce run times and processing work, we can include device_metric_daily.\n",
    "\n",
    "#### In general, there are 2 ways to filter users:\n",
    "1. Attributes (ie. ROKU+AMAZON, certain os, kids mode only, etc.)\n",
    "2. Metrics (ie. watched at least 60 mins TVT, completed 3 movies, etc.)\n",
    "3. Events (ie. user exited the video player after completing 70% of the content)\n",
    "\n",
    "### 2. Raw user data\n",
    "Catch-all CTE to pull a list of standard metrics of active devices in the last 4 weeks, from device_metric_daily. \n",
    "- In the future, we may want to improve this to allow flexibility for more complex metrics not available in device_metric_daily \n",
    "- ie. verification rates can only be calculated from analytics_richevent using is_confirmed = 't'\n",
    "\n",
    "### 3. User data\n",
    "Dynamic CTE that calculates a specific user-chosen metric.\n",
    "\n",
    "### 4. Metric summary\n",
    "Catch-all CTE that allows us to summarize/prep the data for CUPED.\n",
    "\n",
    "### 5. CUPED\n",
    "Catch-all CTE to calculate CUPED for all platforms, platform types, and all Tubi."
   ]
  }
 ],
 "metadata": {
  "kernelspec": {
   "display_name": "Python 3",
   "language": "python",
   "name": "python3"
  },
  "language_info": {
   "codemirror_mode": {
    "name": "ipython",
    "version": 3
   },
   "file_extension": ".py",
   "mimetype": "text/x-python",
   "name": "python",
   "nbconvert_exporter": "python",
   "pygments_lexer": "ipython3",
   "version": "3.7.4"
  }
 },
 "nbformat": 4,
 "nbformat_minor": 4
}
