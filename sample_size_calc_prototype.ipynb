{
 "cells": [
  {
   "cell_type": "markdown",
   "metadata": {},
   "source": [
    "# Sample Size Calculator"
   ]
  },
  {
   "cell_type": "markdown",
   "metadata": {},
   "source": [
    "### How to use (click steps for details)\n",
    "\n",
    "\n",
    "<details>\n",
    "  <summary>1) Select experiment parameters</summary>\n",
    "\n",
    "- **effect**: Relative effect size, also known as minimum detectable effect (MDE). The smallest improvement you’re willing to be able to detect, which determines how \"sensitive\" an experiment is.\n",
    "- **treatments**: # of treatment groups (excluding control). \n",
    "- **allocation**: % of allocation to each experiment group (including control) within the name space. For example, if you are allocating 50% of the namespace to one experiment, with 1 control and 3 treatment groups, then each group's allocation is 0.50/(1+3) = 0.125\n",
    "- **power** and **alpha**: statistical power and level of significance. Defaults to 0.80 at 0.05, do not change unless you have strong reason.\n",
    "- **metric**: The primary metric you want to test for.\n",
    "\n",
    "</details>\n",
    "\n",
    "\n",
    "<details>\n",
    "  <summary>2) Select population filters (optional)</summary>\n",
    "\n",
    "There are 3 types of filters:\n",
    "- **attribute:** non-numerical attributes associated to a particular device. In SQL format, so you need to put quotes around the value.\n",
    "    - Example: if you only want US and CA devices, select `country` in \"field\", `IN` in \"condition\", and type in `('US, 'CA')` in \"value\"\n",
    "- **metric:** numerical attributes associated to a particular device. No need to put quotes around the value.\n",
    "    - Example: if you only want devices that watched at least 1 hour of TVT, select `tvt_sec` in \"field\", `>=` in \"condition\", and type in `3600` in \"value\"\n",
    "- **event:** events associated to a particular device. For advanced users with knowledge on how the events get populated. This is rarely used.\n",
    "    - Example: If you only want devices that exited the player after completing 90% of a title\n",
    "        - In primary event: multi-select (Cmd+click) `NavigateToPageEvent`, `PageLoadEvent`, `NavigateWithinPageEvent`, and `BookmarkEvent` in \"event\", select `page_type` in \"field\", `=` in \"condition\", and type in `VideoPlayerPage` in \"value\"\n",
    "        - In pre event: select `PlayProgressEvent` in \"event\", select `content_completion_pct` in \"field\", `>=` in \"condition\", and type in `0.90` in \"value\"\n",
    "            - If you want to put a time restriction between the pre-event and primary event (ie. events must occur within 60 secs of each other), you can type in your \"interval\".\n",
    "</details>\n",
    "\n",
    "\n",
    "<details>\n",
    "  <summary>3) Confirm your filters and run the calculation</summary>\n",
    "\n",
    "- Hit the \"Show all filters\" button and confirm the filters you selected\n",
    "- Hit the \"Calculate sample size\" button to start the calculation. It takes about 5 minutes to run, longer if you have more filters.\n",
    "\n",
    "</details>"
   ]
  },
  {
   "cell_type": "markdown",
   "metadata": {},
   "source": [
    "## Set"
   ]
  },
  {
   "cell_type": "code",
   "execution_count": 1,
   "metadata": {},
   "outputs": [],
   "source": [
    "import tubi_data_runtime as tdr\n",
    "import math\n",
    "import pandas as pd\n",
    "import numpy as np\n",
    "from datetime import date\n",
    "\n",
    "import ipywidgets as widgets\n",
    "from ipywidgets import interact, interactive, fixed, interact_manual, SelectMultiple, Button, Output, Dropdown, Accordion, Tab, HBox, VBox, Layout\n",
    "from IPython.display import clear_output, display as ipy_display\n",
    "from traitlets import traitlets\n",
    "\n",
    "import warnings\n",
    "from statsmodels.tools.sm_exceptions import ConvergenceWarning\n",
    "warnings.simplefilter('ignore', ConvergenceWarning)\n",
    "\n",
    "from ssc_utils.filter_generator import filter_generator\n",
    "from ssc_utils.raw_user_data import raw_user_data\n",
    "from ssc_utils.metric_switcher import metric_switcher\n",
    "from ssc_utils.metric_summary import metric_summary\n",
    "from ssc_utils.cuped import cuped\n",
    "import ssc_utils.calculator as c\n",
    "\n",
    "# load choices\n",
    "event_name_choices = filter_generator().event_name_choices()\n",
    "filter_metrics_choices = filter_generator().filter_metrics_choices()"
   ]
  },
  {
   "cell_type": "code",
   "execution_count": 2,
   "metadata": {},
   "outputs": [],
   "source": [
    "EFFECT_SIZE_RELATIVE = interactive(c.effect, effect=(0.0,1.0,0.01))\n",
    "NUMBER_VARIATIONS = interactive(c.treatments, treatments=(0,8,1))\n",
    "ALLOCATION = interactive(c.allocation, allocation=(0.0,1.0,0.01))\n",
    "POWER = interactive(c.power, power=(0.0,1.0,0.01))\n",
    "ALPHA = interactive(c.alpha, alpha=(0.0,1.0,0.01))\n",
    "\n",
    "primary_metric = interactive(metric_switcher().choose_metric, metric = metric_switcher().possible_metrics())\n",
    "\n",
    "attribute_filter = interactive(filter_generator().make_sql_condition_string, \n",
    "                                   field = filter_generator().filter_attributes_choices(), \n",
    "                                   condition = filter_generator().condition_choices(), \n",
    "                                   value = '', \n",
    "                                   filter_type = fixed('attribute'))\n",
    "\n",
    "metric_filter = interactive(filter_generator().make_sql_condition_string, \n",
    "                                field = filter_metrics_choices, \n",
    "                                condition = filter_generator().condition_choices(), \n",
    "                                value = '', \n",
    "                                filter_type = fixed('metric'))\n",
    "\n",
    "\n",
    "primary_event = SelectMultiple(\n",
    "    options = event_name_choices,\n",
    "    value = ('no event filter',), \n",
    "    description='event'\n",
    "#     disabled=False\n",
    ")\n",
    "\n",
    "primary_event_sub_cond = interactive(filter_generator().make_sql_condition_string, \n",
    "                              field = filter_generator().event_sub_cond_field_choices(), \n",
    "                              condition = filter_generator().condition_choices(), \n",
    "                              value = '', \n",
    "                              filter_type = fixed('event'))\n",
    "\n",
    "\n",
    "pre_event = SelectMultiple(\n",
    "    options = event_name_choices,\n",
    "    value = ('no event filter',), \n",
    "    description='event',\n",
    "    disabled=False\n",
    ")\n",
    "\n",
    "pre_event_sub_cond = interactive(filter_generator().make_sql_condition_string, \n",
    "                              field = filter_generator().event_sub_cond_field_choices(), \n",
    "                              condition = filter_generator().condition_choices(), \n",
    "                              value = '', \n",
    "                              filter_type = fixed('event'))\n",
    "\n",
    "\n",
    "time_interval = interactive(filter_generator().interval, interval = 'NULL')"
   ]
  },
  {
   "cell_type": "code",
   "execution_count": 3,
   "metadata": {},
   "outputs": [
    {
     "data": {
      "application/vnd.jupyter.widget-view+json": {
       "model_id": "357239ddd5fa4b988f031051a350635b",
       "version_major": 2,
       "version_minor": 0
      },
      "text/plain": [
       "Tab(children=(VBox(children=(interactive(children=(FloatSlider(value=0.01, description='effect', max=1.0, step…"
      ]
     },
     "metadata": {},
     "output_type": "display_data"
    }
   ],
   "source": [
    "parameters = VBox([EFFECT_SIZE_RELATIVE, NUMBER_VARIATIONS, ALLOCATION, POWER, ALPHA, primary_metric])\n",
    "\n",
    "filter_accordion = Accordion([attribute_filter, metric_filter])\n",
    "filter_accordion_titles = ['attribute', 'metric']\n",
    "for i in range(0,len(filter_accordion_titles)):\n",
    "    filter_accordion.set_title(i, filter_accordion_titles[i])\n",
    "\n",
    "primary_event_set = VBox([primary_event, primary_event_sub_cond])\n",
    "pre_event_set = VBox([pre_event, pre_event_sub_cond, time_interval])\n",
    "\n",
    "event_filter_accordion = Accordion([primary_event_set, pre_event_set])\n",
    "event_filter_accordion_titles = ['primary event','pre event']\n",
    "for i in range(0,len(event_filter_accordion_titles)):\n",
    "    event_filter_accordion.set_title(i, event_filter_accordion_titles[i])    \n",
    "\n",
    "list_widgets  = [\n",
    "    parameters,\n",
    "    filter_accordion,\n",
    "    event_filter_accordion   \n",
    "]\n",
    "\n",
    "tab = Tab(children = list_widgets)\n",
    "\n",
    "titles = ['parameters','filters','event filters']\n",
    "for i in range(0,len(titles)):\n",
    "    tab.set_title(i, titles[i])\n",
    "tab"
   ]
  },
  {
   "cell_type": "code",
   "execution_count": 17,
   "metadata": {},
   "outputs": [],
   "source": [
    "def concat_3child_filters(filt):\n",
    "    if filt.children[0].value != 'no filters':\n",
    "        return filt.children[0].value + ' ' + filt.children[1].value + ' ' + filt.children[2].value\n",
    "    else: \n",
    "        return \n",
    "\n",
    "    \n",
    "filter_output = Output()\n",
    "show_filter_button = Button(description=\"Show all filters\", layout=Layout(width='200px'))\n",
    "ipy_display()\n",
    "\n",
    "def print_filters_on_button_clicked(b):\n",
    "    filter_output.clear_output(wait = True)\n",
    "    with filter_output:\n",
    "        print('parameters selected:') \n",
    "        print('\\t effect size', EFFECT_SIZE_RELATIVE.result)\n",
    "        print('\\t number of variations', NUMBER_VARIATIONS.result)\n",
    "        print('\\t allocation', ALLOCATION.result)\n",
    "        print('\\t power', POWER.result)\n",
    "        print('\\t alpha', ALPHA.result)\n",
    "\n",
    "        print()\n",
    "        print('metric selected:', primary_metric.result) \n",
    "\n",
    "        print()\n",
    "        print('filters selected:')\n",
    "        print('\\t', concat_3child_filters(attribute_filter))\n",
    "        print('\\t', concat_3child_filters(metric_filter))\n",
    "\n",
    "        print()\n",
    "        print('event filters selected:')\n",
    "        if primary_event.value[0] != 'no event filter': \n",
    "            print('\\t', 'primary event:', primary_event.value[0], ';', concat_3child_filters(primary_event_sub_cond))\n",
    "        else: print('\\t', None)\n",
    "        if pre_event.value[0] != 'no event filter': \n",
    "            print('\\t', 'pre event:', pre_event.value[0], ';', concat_3child_filters(pre_event_sub_cond), )\n",
    "            if time_interval.children[0].value != 'NULL':\n",
    "                print('time interval between events:', time_interval.children[0].value)"
   ]
  },
  {
   "cell_type": "code",
   "execution_count": 18,
   "metadata": {
    "scrolled": true
   },
   "outputs": [],
   "source": [
    "filters_sql = filter_generator().generate_filter_cte(attribute_condition_interact = attribute_filter, \n",
    "                                                     metric_condition_interact = metric_filter, \n",
    "                                                     event1_condition_interact = pre_event, \n",
    "                                                     event1_sub_condition_interact = pre_event_sub_cond, \n",
    "                                                     event2_condition_interact = primary_event, \n",
    "                                                     event2_sub_condition_interact = primary_event_sub_cond, \n",
    "                                                     event_time_interval_interact = time_interval)\n",
    "raw_user_sql = raw_user_data().generate_raw_user_data_cte(prev_cte_sql = filters_sql)\n",
    "user_sql = metric_switcher().generate_user_data_cte(primary_metric.result) \n",
    "summary_sql = metric_summary().generate_metric_summary_cte() \n",
    "cuped_sql = cuped().generate_cuped_cte(event2_condition_interact = primary_event)\n",
    "\n",
    "FINAL_SQL = filters_sql + raw_user_sql + user_sql + summary_sql + cuped_sql"
   ]
  },
  {
   "cell_type": "markdown",
   "metadata": {},
   "source": [
    "## Results"
   ]
  },
  {
   "cell_type": "code",
   "execution_count": 19,
   "metadata": {},
   "outputs": [],
   "source": [
    "output = Output()\n",
    "run_button = Button(description=\"Calculate sample size\", layout=Layout(width='200px'))\n",
    "\n",
    "def run_on_button_clicked(b):\n",
    "    output.clear_output(wait = True)\n",
    "    with output:\n",
    "        print(\"Running...estimated time: ~5 min\")\n",
    "        raw_df = tdr.query_redshift(FINAL_SQL).to_df()\n",
    "\n",
    "        final_df = c.calculate_sample_required(df = raw_df, \n",
    "                                               effect_size_relative = EFFECT_SIZE_RELATIVE, \n",
    "                                               number_variations = NUMBER_VARIATIONS, \n",
    "                                               allocation = ALLOCATION, \n",
    "                                               power = POWER, \n",
    "                                               alpha = ALPHA)\n",
    "        clear_output(wait=True)\n",
    "        display(final_df.sort_values('platform').style.hide_index().set_precision(3))"
   ]
  },
  {
   "cell_type": "code",
   "execution_count": 20,
   "metadata": {},
   "outputs": [],
   "source": [
    "# output SQL for debugging purposes; can copy and manually run this elsewhere\n",
    "\n",
    "sql_output = Output()\n",
    "print_button = Button(description=\"Print SQL (for debugging)\", layout=Layout(width='200px'))\n",
    "\n",
    "def print_sql_on_button_clicked(b):\n",
    "    sql_output.clear_output(wait = True)\n",
    "    with sql_output:\n",
    "        print(FINAL_SQL)"
   ]
  },
  {
   "cell_type": "code",
   "execution_count": 21,
   "metadata": {},
   "outputs": [
    {
     "data": {
      "application/vnd.jupyter.widget-view+json": {
       "model_id": "c2ce6649a5ac4a2a89bb21a89814fddf",
       "version_major": 2,
       "version_minor": 0
      },
      "text/plain": [
       "Button(description='Show all filters', layout=Layout(width='200px'), style=ButtonStyle())"
      ]
     },
     "metadata": {},
     "output_type": "display_data"
    },
    {
     "data": {
      "application/vnd.jupyter.widget-view+json": {
       "model_id": "315d2da0b0084b5d81e1bdade382e80c",
       "version_major": 2,
       "version_minor": 0
      },
      "text/plain": [
       "Output()"
      ]
     },
     "metadata": {},
     "output_type": "display_data"
    },
    {
     "data": {
      "application/vnd.jupyter.widget-view+json": {
       "model_id": "54139557eaad4b0fb3768206a2cf2403",
       "version_major": 2,
       "version_minor": 0
      },
      "text/plain": [
       "Button(description='Calculate sample size', layout=Layout(width='200px'), style=ButtonStyle())"
      ]
     },
     "metadata": {},
     "output_type": "display_data"
    },
    {
     "data": {
      "application/vnd.jupyter.widget-view+json": {
       "model_id": "13fef51c9e0340bf907ca90bfbaeb0ba",
       "version_major": 2,
       "version_minor": 0
      },
      "text/plain": [
       "Output()"
      ]
     },
     "metadata": {},
     "output_type": "display_data"
    },
    {
     "data": {
      "application/vnd.jupyter.widget-view+json": {
       "model_id": "3c179e160057422f83be249c749f2acd",
       "version_major": 2,
       "version_minor": 0
      },
      "text/plain": [
       "Button(description='Print SQL (for debugging)', layout=Layout(width='200px'), style=ButtonStyle())"
      ]
     },
     "metadata": {},
     "output_type": "display_data"
    },
    {
     "data": {
      "application/vnd.jupyter.widget-view+json": {
       "model_id": "d1b4464bbd814a4e8bab51028a482d00",
       "version_major": 2,
       "version_minor": 0
      },
      "text/plain": [
       "Output()"
      ]
     },
     "metadata": {},
     "output_type": "display_data"
    }
   ],
   "source": [
    "ipy_display(show_filter_button, filter_output, run_button, output, print_button, sql_output)\n",
    "\n",
    "show_filter_button.on_click(print_filters_on_button_clicked)\n",
    "run_button.on_click(run_on_button_clicked)\n",
    "print_button.on_click(print_sql_on_button_clicked)"
   ]
  },
  {
   "cell_type": "code",
   "execution_count": null,
   "metadata": {},
   "outputs": [],
   "source": []
  }
 ],
 "metadata": {
  "kernelspec": {
   "display_name": "Python 3",
   "language": "python",
   "name": "python3"
  },
  "language_info": {
   "codemirror_mode": {
    "name": "ipython",
    "version": 3
   },
   "file_extension": ".py",
   "mimetype": "text/x-python",
   "name": "python",
   "nbconvert_exporter": "python",
   "pygments_lexer": "ipython3",
   "version": "3.7.4"
  }
 },
 "nbformat": 4,
 "nbformat_minor": 4
}
