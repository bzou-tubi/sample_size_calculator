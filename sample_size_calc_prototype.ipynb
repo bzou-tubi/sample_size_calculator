{
 "cells": [
  {
   "cell_type": "markdown",
   "metadata": {},
   "source": [
    "# Sample Size Calculator (WIP)"
   ]
  },
  {
   "cell_type": "code",
   "execution_count": 1,
   "metadata": {},
   "outputs": [],
   "source": [
    "import tubi_data_runtime as tdr\n",
    "import math\n",
    "import pandas as pd\n",
    "import numpy as np\n",
    "from datetime import date\n",
    "from statsmodels.stats.power import tt_ind_solve_power\n",
    "from ipywidgets import interact, interactive, fixed, interact_manual\n",
    "import ipywidgets as widgets\n",
    "\n",
    "from ssc_utils.filter_generator import filter_generator\n",
    "from ssc_utils.raw_user_data import raw_user_data\n",
    "from ssc_utils.metric_switcher import metric_switcher\n",
    "from ssc_utils.metric_summary import metric_summary\n",
    "from ssc_utils.cuped import cuped\n",
    "import ssc_utils.calculator as c\n",
    "\n",
    "# load choices\n",
    "event_name_choices = filter_generator().event_name_choices()\n",
    "filter_metrics_choices = filter_generator().filter_metrics_choices()"
   ]
  },
  {
   "cell_type": "markdown",
   "metadata": {},
   "source": [
    "## Interactive calculator (end user starts here)"
   ]
  },
  {
   "cell_type": "code",
   "execution_count": 2,
   "metadata": {
    "jupyter": {
     "source_hidden": true
    }
   },
   "outputs": [
    {
     "name": "stdout",
     "output_type": "stream",
     "text": [
      "relative effect size\n"
     ]
    },
    {
     "data": {
      "application/vnd.jupyter.widget-view+json": {
       "model_id": "ff2f03a736594adc86c63f9a0459043b",
       "version_major": 2,
       "version_minor": 0
      },
      "text/plain": [
       "interactive(children=(FloatSlider(value=0.01, description='x', max=1.0, step=0.01), Output()), _dom_classes=('…"
      ]
     },
     "metadata": {},
     "output_type": "display_data"
    },
    {
     "name": "stdout",
     "output_type": "stream",
     "text": [
      "\n",
      "number of treatments\n"
     ]
    },
    {
     "data": {
      "application/vnd.jupyter.widget-view+json": {
       "model_id": "a244b95e686d4042bed056625c59b7d1",
       "version_major": 2,
       "version_minor": 0
      },
      "text/plain": [
       "interactive(children=(IntSlider(value=1, description='x', max=8), Output()), _dom_classes=('widget-interact',)…"
      ]
     },
     "metadata": {},
     "output_type": "display_data"
    },
    {
     "name": "stdout",
     "output_type": "stream",
     "text": [
      "\n",
      "allocation per variation (including control)\n"
     ]
    },
    {
     "data": {
      "application/vnd.jupyter.widget-view+json": {
       "model_id": "8767cce798b54a4f9276287a45038516",
       "version_major": 2,
       "version_minor": 0
      },
      "text/plain": [
       "interactive(children=(FloatSlider(value=0.5, description='x', max=1.0, step=0.01), Output()), _dom_classes=('w…"
      ]
     },
     "metadata": {},
     "output_type": "display_data"
    },
    {
     "name": "stdout",
     "output_type": "stream",
     "text": [
      "\n",
      "power\n"
     ]
    },
    {
     "data": {
      "application/vnd.jupyter.widget-view+json": {
       "model_id": "8bbab1161d434b4eadcfe5225e5614aa",
       "version_major": 2,
       "version_minor": 0
      },
      "text/plain": [
       "interactive(children=(FloatSlider(value=0.8, description='x', max=1.0, step=0.01), Output()), _dom_classes=('w…"
      ]
     },
     "metadata": {},
     "output_type": "display_data"
    },
    {
     "name": "stdout",
     "output_type": "stream",
     "text": [
      "\n",
      "alpha\n"
     ]
    },
    {
     "data": {
      "application/vnd.jupyter.widget-view+json": {
       "model_id": "5b3389e4a707401ba790442ec087ea99",
       "version_major": 2,
       "version_minor": 0
      },
      "text/plain": [
       "interactive(children=(FloatSlider(value=0.05, description='x', max=1.0, step=0.01), Output()), _dom_classes=('…"
      ]
     },
     "metadata": {},
     "output_type": "display_data"
    }
   ],
   "source": [
    "print('relative effect size')\n",
    "EFFECT_SIZE_RELATIVE = interactive(c.effect, x=(0.0,1.0,0.01))\n",
    "display(EFFECT_SIZE_RELATIVE)\n",
    "\n",
    "print('')\n",
    "print('number of treatments')\n",
    "NUMBER_VARIATIONS = interactive(c.variations, x=(0,8,1))\n",
    "display(NUMBER_VARIATIONS)\n",
    "\n",
    "print('')\n",
    "print('allocation per variation (including control)')\n",
    "ALLOCATION = interactive(c.allocation, x=(0.0,1.0,0.01))\n",
    "display(ALLOCATION)\n",
    "\n",
    "print('')\n",
    "print('power')\n",
    "POWER = interactive(c.power, x=(0.0,1.0,0.01))\n",
    "display(POWER)\n",
    "\n",
    "print('')\n",
    "print('alpha')\n",
    "ALPHA = interactive(c.alpha, x=(0.0,1.0,0.01))\n",
    "display(ALPHA)"
   ]
  },
  {
   "cell_type": "code",
   "execution_count": 3,
   "metadata": {
    "jupyter": {
     "source_hidden": true
    }
   },
   "outputs": [
    {
     "name": "stdout",
     "output_type": "stream",
     "text": [
      "\n",
      "choose your primary metric\n"
     ]
    },
    {
     "data": {
      "application/vnd.jupyter.widget-view+json": {
       "model_id": "0fed4ba5ea614b72997e5382b4ce1f77",
       "version_major": 2,
       "version_minor": 0
      },
      "text/plain": [
       "interactive(children=(Dropdown(description='metric', options=('capped_tvt', 'new_viewer_first_day_capped_tvt',…"
      ]
     },
     "metadata": {},
     "output_type": "display_data"
    }
   ],
   "source": [
    "print('')\n",
    "print('choose your primary metric')\n",
    "metric_str = interactive(metric_switcher().choose_metric, metric = metric_switcher().possible_metrics())\n",
    "display(metric_str)"
   ]
  },
  {
   "cell_type": "code",
   "execution_count": 4,
   "metadata": {
    "jupyter": {
     "source_hidden": true
    }
   },
   "outputs": [
    {
     "name": "stdout",
     "output_type": "stream",
     "text": [
      "choose attribute filter\n"
     ]
    },
    {
     "data": {
      "application/vnd.jupyter.widget-view+json": {
       "model_id": "df7ba9c4efdc4964af073d0f206c84e8",
       "version_major": 2,
       "version_minor": 0
      },
      "text/plain": [
       "interactive(children=(Dropdown(description='field', options=('no filters', 'user_id', 'device_id', 'platform',…"
      ]
     },
     "metadata": {},
     "output_type": "display_data"
    }
   ],
   "source": [
    "print('choose attribute filter')\n",
    "attribute_filter = interactive(filter_generator().make_sql_condition_string, \n",
    "                                   field = filter_generator().filter_attributes_choices(), \n",
    "                                   condition = filter_generator().attribute_conditions_choices(), \n",
    "                                   value = '', \n",
    "                                   filter_type = fixed('attribute'))\n",
    "display(attribute_filter)"
   ]
  },
  {
   "cell_type": "code",
   "execution_count": 5,
   "metadata": {
    "jupyter": {
     "source_hidden": true
    }
   },
   "outputs": [
    {
     "name": "stdout",
     "output_type": "stream",
     "text": [
      "\n",
      "choose metric filter\n"
     ]
    },
    {
     "data": {
      "application/vnd.jupyter.widget-view+json": {
       "model_id": "a8d18f1724744ac2a8152756a03c5312",
       "version_major": 2,
       "version_minor": 0
      },
      "text/plain": [
       "interactive(children=(Dropdown(description='field', options=('no filters', 'visit_total_count', 'tvt_sec', 'mo…"
      ]
     },
     "metadata": {},
     "output_type": "display_data"
    }
   ],
   "source": [
    "print('')\n",
    "print('choose metric filter')\n",
    "metric_filter = interactive(filter_generator().make_sql_condition_string, \n",
    "                                field = filter_metrics_choices, \n",
    "                                condition = filter_generator().metric_conditions_choices(), \n",
    "                                value = '', \n",
    "                                filter_type = fixed('metric'))\n",
    "display(metric_filter)"
   ]
  },
  {
   "cell_type": "code",
   "execution_count": 6,
   "metadata": {
    "jupyter": {
     "source_hidden": true
    }
   },
   "outputs": [
    {
     "name": "stdout",
     "output_type": "stream",
     "text": [
      "choose your primary event\n"
     ]
    },
    {
     "data": {
      "application/vnd.jupyter.widget-view+json": {
       "model_id": "6b61544eedde41fba10261e8b63fe99f",
       "version_major": 2,
       "version_minor": 0
      },
      "text/plain": [
       "SelectMultiple(description='Events', index=(0,), options=('no event filter', 'AccountEvent', 'ActiveEvent', 'A…"
      ]
     },
     "metadata": {},
     "output_type": "display_data"
    },
    {
     "name": "stdout",
     "output_type": "stream",
     "text": [
      "choose event sub-condition\n"
     ]
    },
    {
     "data": {
      "application/vnd.jupyter.widget-view+json": {
       "model_id": "aa9d974717f044a28a0a5044b693eba9",
       "version_major": 2,
       "version_minor": 0
      },
      "text/plain": [
       "interactive(children=(Dropdown(description='field', options=('no filters', 'content_completion_pct', 'componen…"
      ]
     },
     "metadata": {},
     "output_type": "display_data"
    },
    {
     "name": "stdout",
     "output_type": "stream",
     "text": [
      "\n",
      "choose your pre-requisite event (does not work if primary event is empty)\n"
     ]
    },
    {
     "data": {
      "application/vnd.jupyter.widget-view+json": {
       "model_id": "9f27fe6348e641b4902cdc1070df80d2",
       "version_major": 2,
       "version_minor": 0
      },
      "text/plain": [
       "SelectMultiple(description='Events', index=(0,), options=('no event filter', 'AccountEvent', 'ActiveEvent', 'A…"
      ]
     },
     "metadata": {},
     "output_type": "display_data"
    },
    {
     "name": "stdout",
     "output_type": "stream",
     "text": [
      "choose event sub-condition\n"
     ]
    },
    {
     "data": {
      "application/vnd.jupyter.widget-view+json": {
       "model_id": "22c01739044e4429a19f367d8d9950fd",
       "version_major": 2,
       "version_minor": 0
      },
      "text/plain": [
       "interactive(children=(Dropdown(description='field', options=('no filters', 'content_completion_pct', 'componen…"
      ]
     },
     "metadata": {},
     "output_type": "display_data"
    },
    {
     "name": "stdout",
     "output_type": "stream",
     "text": [
      "choose time interval (leave NULL if not needed)\n"
     ]
    },
    {
     "data": {
      "application/vnd.jupyter.widget-view+json": {
       "model_id": "2faa370eac7b4f30a7f8cecba42e9ea4",
       "version_major": 2,
       "version_minor": 0
      },
      "text/plain": [
       "interactive(children=(Text(value='NULL', description='choice'), Output()), _dom_classes=('widget-interact',))"
      ]
     },
     "metadata": {},
     "output_type": "display_data"
    }
   ],
   "source": [
    "print('choose your primary event')\n",
    "primary_event = widgets.SelectMultiple(\n",
    "    options = event_name_choices,\n",
    "    value = ('no event filter',), \n",
    "    description='Events',\n",
    "    disabled=False\n",
    ")\n",
    "display(primary_event)\n",
    "\n",
    "print('choose event sub-condition')\n",
    "primary_event_sub_cond = interactive(filter_generator().make_sql_condition_string, \n",
    "                              field = filter_generator().event_sub_cond_field_choices(), \n",
    "                              condition = filter_generator().metric_conditions_choices(), \n",
    "                              value = '', \n",
    "                              filter_type = fixed('event'))\n",
    "display(primary_event_sub_cond)\n",
    "\n",
    "\n",
    "print('')\n",
    "print('choose your pre-requisite event (does not work if primary event is empty)')\n",
    "pre_event = widgets.SelectMultiple(\n",
    "    options = event_name_choices,\n",
    "    value = ('no event filter',), \n",
    "    description='Events',\n",
    "    disabled=False\n",
    ")\n",
    "display(pre_event)\n",
    "\n",
    "print('choose event sub-condition')\n",
    "pre_event_sub_cond = interactive(filter_generator().make_sql_condition_string, \n",
    "                              field = filter_generator().event_sub_cond_field_choices(), \n",
    "                              condition = filter_generator().metric_conditions_choices(), \n",
    "                              value = '', \n",
    "                              filter_type = fixed('event'))\n",
    "display(pre_event_sub_cond)\n",
    "\n",
    "\n",
    "print('choose time interval (leave NULL if not needed)')\n",
    "time_interval = interactive(filter_generator().choose, choice = 'NULL')\n",
    "display(time_interval)"
   ]
  },
  {
   "cell_type": "markdown",
   "metadata": {},
   "source": [
    "## After the user specifies the settings, run everything below"
   ]
  },
  {
   "cell_type": "code",
   "execution_count": 7,
   "metadata": {
    "scrolled": true
   },
   "outputs": [
    {
     "name": "stdout",
     "output_type": "stream",
     "text": [
      "WITH raw_user_data AS (\n",
      "              SELECT \n",
      "                  a.device_id,\n",
      "                  device_first_seen_ts,\n",
      "                  ds,\n",
      "                  platform_type,\n",
      "                  platform,\n",
      "                  GETDATE() AS last_exposure_ds,\n",
      "                  DATEADD('week', -2, DATE_TRUNC('week', last_exposure_ds)) AS first_exposure_ds,\n",
      "                  -- Metrics\n",
      "                  sum(tvt_sec) as tvt_sec,\n",
      "                  sum(user_signup_count) as user_signup_count,\n",
      "                  sum(device_registration_count) as device_registration_count,\n",
      "                  sum(signup_or_registration_activity_count) as signup_or_registration_activity_count,\n",
      "                  sum(visit_total_count) as visit_total_count\n",
      "              FROM tubidw.device_metric_daily as a\n",
      "        \n",
      "              WHERE DATE_TRUNC('week',ds) >= dateadd('week', -4, DATE_TRUNC('week',GETDATE()))\n",
      "                AND DATE_TRUNC('week',ds) < DATE_TRUNC('week', GETDATE())\n",
      "              GROUP BY 1,2,3,4,5,6,7\n",
      "            )\n",
      "        \n",
      "        , user_data AS (\n",
      "          SELECT \n",
      "            device_id, ds, platform_type, platform, device_first_seen_ts, first_exposure_ds, \n",
      "            'capped_tvt'::text AS metric_name,\n",
      "            'SUM'::text AS metric_collection_method, \n",
      "            LEAST(tvt_sec / 3600.0, 4.0) AS metric_value \n",
      "          FROM raw_user_data\n",
      "        )\n",
      "        \n",
      "           , metrics AS (\n",
      "              SELECT DISTINCT\n",
      "                     user_data.device_id,\n",
      "                     platform_type,\n",
      "                     platform,\n",
      "                     metric_name,\n",
      "                     CASE\n",
      "                       WHEN metric_collection_method = 'SUM' THEN SUM(CASE WHEN user_data.ds >= user_data.first_exposure_ds THEN metric_value ELSE 0 END) OVER\n",
      "                        (PARTITION BY user_data.device_id, user_data.platform)\n",
      "                       WHEN metric_collection_method = 'MAX' THEN MAX(CASE WHEN user_data.ds >= user_data.first_exposure_ds THEN metric_value ELSE 0 END) OVER\n",
      "                        (PARTITION BY user_data.device_id, user_data.platform)\n",
      "                      WHEN metric_collection_method = 'AVG' THEN AVG(CASE WHEN user_data.ds >= user_data.first_exposure_ds THEN metric_value ELSE NULL END) OVER\n",
      "                        (PARTITION BY user_data.device_id, user_data.platform)\n",
      "                      WHEN metric_collection_method = 'SUMGREATERTHAN' THEN CASE WHEN (SUM(CASE WHEN user_data.ds >= user_data.first_exposure_ds THEN metric_value ELSE 0 END) OVER\n",
      "                        (PARTITION BY user_data.device_id, user_data.platform)) > 1 THEN 1.0 ELSE 0.0 END\n",
      "                      ELSE 0 END::float\n",
      "                     AS metric_result,\n",
      "                    CASE\n",
      "                          WHEN metric_collection_method = 'SUM' THEN\n",
      "                              SUM(CASE WHEN user_data.ds < user_data.first_exposure_ds THEN metric_value ELSE\n",
      "                          (CASE WHEN device_first_seen_ts < user_data.first_exposure_ds - interval '14 day' THEN 0 ELSE NULL END) END) OVER\n",
      "                          (PARTITION BY user_data.device_id, user_data.platform)\n",
      "                          WHEN metric_collection_method = 'MAX' THEN\n",
      "                              MAX(CASE WHEN user_data.ds < user_data.first_exposure_ds THEN metric_value ELSE\n",
      "                          (CASE WHEN device_first_seen_ts < user_data.first_exposure_ds - interval '14 day' THEN 0 ELSE NULL END) END) OVER\n",
      "                          (PARTITION BY user_data.device_id, user_data.platform)\n",
      "                          WHEN metric_collection_method = 'AVG' THEN\n",
      "                              AVG(CASE WHEN user_data.ds < user_data.first_exposure_ds THEN metric_value ELSE\n",
      "                          (CASE WHEN device_first_seen_ts < user_data.first_exposure_ds - interval '14 day' THEN 0 ELSE NULL END) END) OVER\n",
      "                          (PARTITION BY user_data.device_id, user_data.platform)\n",
      "                    WHEN metric_collection_method = 'SUMGREATERTHAN' THEN\n",
      "                      CASE WHEN (SUM(CASE WHEN user_data.ds < user_data.first_exposure_ds THEN metric_value ELSE\n",
      "                          (CASE WHEN device_first_seen_ts < user_data.first_exposure_ds - interval '14 day' THEN 0 ELSE NULL END) END) OVER\n",
      "                          (PARTITION BY user_data.device_id, user_data.platform)\n",
      "                          ) > 1 THEN 1 ELSE 0 END\n",
      "                          ELSE 0 END::float AS metric_covariate\n",
      "              FROM user_data\n",
      "            )\n",
      "        \n",
      "            -- Cuped values\n",
      "            , cuped_values_1 AS (\n",
      "              SELECT\n",
      "                *,\n",
      "                AVG(metric_covariate) OVER (PARTITION BY metric_name, platform_type) AS before_covariate_average,\n",
      "                AVG(metric_result) OVER (PARTITION BY metric_name, platform_type) AS after_covariate_average,\n",
      "                STDDEV(metric_covariate) OVER (PARTITION BY metric_name, platform_type) AS covariate_standard_dev,\n",
      "                AVG(metric_covariate) OVER (PARTITION BY metric_name) AS before_covariate_average_total,\n",
      "                AVG(metric_result) OVER (PARTITION BY metric_name) AS after_covariate_average_total,\n",
      "                STDDEV(metric_result) OVER (PARTITION BY metric_name) AS covariate_standard_dev_total\n",
      "              FROM metrics\n",
      "            )\n",
      "\n",
      "            , cuped_values_2 AS (\n",
      "              SELECT\n",
      "                *,\n",
      "                AVG(metric_covariate) OVER (PARTITION BY metric_name, platform) AS before_covariate_average,\n",
      "                AVG(metric_result) OVER (PARTITION BY metric_name, platform) AS after_covariate_average,\n",
      "                STDDEV(metric_covariate) OVER (PARTITION BY metric_name, platform) AS covariate_standard_dev\n",
      "              FROM metrics\n",
      "              WHERE platform in ('ROKU','AMAZON','IPHONE','IPAD','ANDROID','SONY','PS4','COMCAST','VIZIO','XBOXONE','SAMSUNG','COX')\n",
      "            )\n",
      "\n",
      "            , cuped_data_1 AS (\n",
      "              SELECT\n",
      "                metric_name,\n",
      "                AVG(metric_covariate) AS covariate_mean,\n",
      "                1.0 * SUM((metric_covariate - before_covariate_average_total)*(metric_result - after_covariate_average_total)) / NULLIF(STDDEV(metric_covariate)*STDDEV(metric_covariate) * COUNT(*), 0) AS theta\n",
      "              FROM cuped_values_1\n",
      "              GROUP BY 1\n",
      "            )\n",
      "\n",
      "            , cuped_data_2 as (\n",
      "              SELECT\n",
      "                metric_name,\n",
      "                platform_type,\n",
      "                AVG(metric_covariate) AS covariate_mean,\n",
      "                1.0 * SUM((metric_covariate - before_covariate_average)*(metric_result - after_covariate_average)) / NULLIF(STDDEV(metric_covariate)*STDDEV(metric_covariate) * COUNT(*), 0) AS theta\n",
      "              FROM cuped_values_1\n",
      "              GROUP BY 1, 2\n",
      "            )\n",
      "\n",
      "            , cuped_data_3 as (\n",
      "              SELECT\n",
      "                metric_name,\n",
      "                platform,\n",
      "                AVG(metric_covariate) AS covariate_mean,\n",
      "                1.0 * SUM((metric_covariate - before_covariate_average)*(metric_result - after_covariate_average)) / NULLIF(STDDEV(metric_covariate)*STDDEV(metric_covariate) * COUNT(*), 0) AS theta\n",
      "              FROM cuped_values_2\n",
      "              GROUP BY 1, 2\n",
      "            )\n",
      "\n",
      "            , cuped_metrics_1 as (\n",
      "              SELECT\n",
      "                device_id,\n",
      "                a.metric_name,\n",
      "                metric_result,\n",
      "                metric_covariate,\n",
      "                COALESCE(metric_result - (metric_covariate - covariate_mean) * theta, metric_result) AS cuped_result\n",
      "              FROM cuped_data_1 AS a\n",
      "                INNER JOIN cuped_values_1 b\n",
      "                  ON a.metric_name = b.metric_name\n",
      "            )\n",
      "\n",
      "            , cuped_metrics_2 as (\n",
      "              SELECT\n",
      "                device_id,\n",
      "                a.metric_name,\n",
      "                a.platform_type AS platform,\n",
      "                metric_result,\n",
      "                metric_covariate,\n",
      "                COALESCE(metric_result - (metric_covariate - covariate_mean) * theta, metric_result) AS cuped_result\n",
      "              FROM cuped_data_2 AS a\n",
      "                INNER JOIN cuped_values_1 AS b\n",
      "                  ON a.platform_type = b.platform_type\n",
      "                  AND a.metric_name = b.metric_name\n",
      "            )\n",
      "\n",
      "            , cuped_metrics_3 as (\n",
      "              SELECT\n",
      "                device_id,\n",
      "                a.metric_name,\n",
      "                a.platform,\n",
      "                metric_result,\n",
      "                metric_covariate,\n",
      "                COALESCE(metric_result - (metric_covariate - covariate_mean) * theta, metric_result) AS cuped_result\n",
      "              FROM cuped_data_3 AS a\n",
      "                INNER JOIN cuped_values_2 AS b\n",
      "                  ON a.platform = b.platform\n",
      "                  AND a.metric_name = b.metric_name\n",
      "            )\n",
      "\n",
      "            , cuped_results AS (\n",
      "                SELECT metric_name,\n",
      "                        'ALL' as platform,\n",
      "                        count(distinct device_id) size,\n",
      "                        avg(metric_result) result_avg,\n",
      "                        STDDEV(metric_result) result_std,\n",
      "                        avg(cuped_result) avg_cuped_result,\n",
      "                        STDDEV(cuped_result) std_cuped_result\n",
      "                FROM cuped_metrics_1\n",
      "                GROUP BY  1, 2\n",
      "\n",
      "                UNION ALL\n",
      "\n",
      "                SELECT metric_name,\n",
      "                       platform,\n",
      "                       COUNT(distinct device_id) size,\n",
      "                       AVG(metric_result) result_avg,\n",
      "                       STDDEV(metric_result) result_std,\n",
      "                       AVG(cuped_result) avg_cuped_result,\n",
      "                       STDDEV(cuped_result) std_cuped_result\n",
      "                FROM cuped_metrics_2\n",
      "                GROUP BY 1, 2\n",
      "\n",
      "                UNION ALL\n",
      "\n",
      "                SELECT metric_name,\n",
      "                       platform,\n",
      "                       COUNT(distinct device_id) size,\n",
      "                       AVG(metric_result) result_avg,\n",
      "                       STDDEV(metric_result) result_std,\n",
      "                       AVG(cuped_result) avg_cuped_result,\n",
      "                       STDDEV(cuped_result) std_cuped_result\n",
      "                FROM cuped_metrics_3\n",
      "                GROUP BY 1, 2\n",
      "            )\n",
      "\n",
      "            SELECT \n",
      "                   metric_name,\n",
      "                   platform,\n",
      "                   size AS observations,\n",
      "                   avg_cuped_result,\n",
      "                   std_cuped_result\n",
      "            FROM cuped_results        \n",
      "            \n"
     ]
    }
   ],
   "source": [
    "filters = filter_generator().generate_filter_cte(attribute_condition_interact = attribute_filter, \n",
    "                                                 metric_condition_interact = metric_filter, \n",
    "                                                 event1_condition_interact = pre_event, \n",
    "                                                 event1_sub_condition_interact = pre_event_sub_cond, \n",
    "                                                 event2_condition_interact = primary_event, \n",
    "                                                 event2_sub_condition_interact = primary_event_sub_cond, \n",
    "                                                 event_time_interval_interact = time_interval)\n",
    "raw_user = raw_user_data().generate_raw_user_data_cte(prev_cte_sql = filters)\n",
    "user = metric_switcher().generate_user_data_cte(metric_str.result) \n",
    "summary = metric_summary().generate_metric_summary_cte() \n",
    "cuped = cuped().generate_cuped_cte()\n",
    "\n",
    "FINAL_SQL = filters + raw_user + user + summary + cuped\n",
    "\n",
    "# output SQL for debugging purposes; can copy and manually run this elsewhere\n",
    "print(FINAL_SQL)"
   ]
  },
  {
   "cell_type": "code",
   "execution_count": 8,
   "metadata": {},
   "outputs": [],
   "source": [
    "df = tdr.query_redshift(FINAL_SQL).to_df()"
   ]
  },
  {
   "cell_type": "markdown",
   "metadata": {},
   "source": [
    "## Sample size results"
   ]
  },
  {
   "cell_type": "code",
   "execution_count": 9,
   "metadata": {},
   "outputs": [
    {
     "data": {
      "text/html": [
       "<style  type=\"text/css\" >\n",
       "</style><table id=\"T_a0035464_6c9a_11eb_8dc9_721b9894d22e\" ><thead>    <tr>        <th class=\"col_heading level0 col0\" >metric_name</th>        <th class=\"col_heading level0 col1\" >platform</th>        <th class=\"col_heading level0 col2\" >observations</th>        <th class=\"col_heading level0 col3\" >avg_cuped_result</th>        <th class=\"col_heading level0 col4\" >std_cuped_result</th>        <th class=\"col_heading level0 col5\" >sample_required</th>        <th class=\"col_heading level0 col6\" >weeks_required</th>    </tr></thead><tbody>\n",
       "                <tr>\n",
       "                                <td id=\"T_a0035464_6c9a_11eb_8dc9_721b9894d22erow0_col0\" class=\"data row0 col0\" >capped_tvt</td>\n",
       "                        <td id=\"T_a0035464_6c9a_11eb_8dc9_721b9894d22erow0_col1\" class=\"data row0 col1\" >ALL</td>\n",
       "                        <td id=\"T_a0035464_6c9a_11eb_8dc9_721b9894d22erow0_col2\" class=\"data row0 col2\" >37657811</td>\n",
       "                        <td id=\"T_a0035464_6c9a_11eb_8dc9_721b9894d22erow0_col3\" class=\"data row0 col3\" >2.150</td>\n",
       "                        <td id=\"T_a0035464_6c9a_11eb_8dc9_721b9894d22erow0_col4\" class=\"data row0 col4\" >4.516</td>\n",
       "                        <td id=\"T_a0035464_6c9a_11eb_8dc9_721b9894d22erow0_col5\" class=\"data row0 col5\" >692529.000</td>\n",
       "                        <td id=\"T_a0035464_6c9a_11eb_8dc9_721b9894d22erow0_col6\" class=\"data row0 col6\" >0.074</td>\n",
       "            </tr>\n",
       "            <tr>\n",
       "                                <td id=\"T_a0035464_6c9a_11eb_8dc9_721b9894d22erow1_col0\" class=\"data row1 col0\" >capped_tvt</td>\n",
       "                        <td id=\"T_a0035464_6c9a_11eb_8dc9_721b9894d22erow1_col1\" class=\"data row1 col1\" >AMAZON</td>\n",
       "                        <td id=\"T_a0035464_6c9a_11eb_8dc9_721b9894d22erow1_col2\" class=\"data row1 col2\" >3811975</td>\n",
       "                        <td id=\"T_a0035464_6c9a_11eb_8dc9_721b9894d22erow1_col3\" class=\"data row1 col3\" >4.017</td>\n",
       "                        <td id=\"T_a0035464_6c9a_11eb_8dc9_721b9894d22erow1_col4\" class=\"data row1 col4\" >6.396</td>\n",
       "                        <td id=\"T_a0035464_6c9a_11eb_8dc9_721b9894d22erow1_col5\" class=\"data row1 col5\" >397923.000</td>\n",
       "                        <td id=\"T_a0035464_6c9a_11eb_8dc9_721b9894d22erow1_col6\" class=\"data row1 col6\" >0.418</td>\n",
       "            </tr>\n",
       "            <tr>\n",
       "                                <td id=\"T_a0035464_6c9a_11eb_8dc9_721b9894d22erow2_col0\" class=\"data row2 col0\" >capped_tvt</td>\n",
       "                        <td id=\"T_a0035464_6c9a_11eb_8dc9_721b9894d22erow2_col1\" class=\"data row2 col1\" >ANDROID</td>\n",
       "                        <td id=\"T_a0035464_6c9a_11eb_8dc9_721b9894d22erow2_col2\" class=\"data row2 col2\" >6984032</td>\n",
       "                        <td id=\"T_a0035464_6c9a_11eb_8dc9_721b9894d22erow2_col3\" class=\"data row2 col3\" >1.406</td>\n",
       "                        <td id=\"T_a0035464_6c9a_11eb_8dc9_721b9894d22erow2_col4\" class=\"data row2 col4\" >3.554</td>\n",
       "                        <td id=\"T_a0035464_6c9a_11eb_8dc9_721b9894d22erow2_col5\" class=\"data row2 col5\" >1002875.000</td>\n",
       "                        <td id=\"T_a0035464_6c9a_11eb_8dc9_721b9894d22erow2_col6\" class=\"data row2 col6\" >0.574</td>\n",
       "            </tr>\n",
       "            <tr>\n",
       "                                <td id=\"T_a0035464_6c9a_11eb_8dc9_721b9894d22erow3_col0\" class=\"data row3 col0\" >capped_tvt</td>\n",
       "                        <td id=\"T_a0035464_6c9a_11eb_8dc9_721b9894d22erow3_col1\" class=\"data row3 col1\" >COMCAST</td>\n",
       "                        <td id=\"T_a0035464_6c9a_11eb_8dc9_721b9894d22erow3_col2\" class=\"data row3 col2\" >2394550</td>\n",
       "                        <td id=\"T_a0035464_6c9a_11eb_8dc9_721b9894d22erow3_col3\" class=\"data row3 col3\" >2.963</td>\n",
       "                        <td id=\"T_a0035464_6c9a_11eb_8dc9_721b9894d22erow3_col4\" class=\"data row3 col4\" >4.688</td>\n",
       "                        <td id=\"T_a0035464_6c9a_11eb_8dc9_721b9894d22erow3_col5\" class=\"data row3 col5\" >392829.000</td>\n",
       "                        <td id=\"T_a0035464_6c9a_11eb_8dc9_721b9894d22erow3_col6\" class=\"data row3 col6\" >0.656</td>\n",
       "            </tr>\n",
       "            <tr>\n",
       "                                <td id=\"T_a0035464_6c9a_11eb_8dc9_721b9894d22erow4_col0\" class=\"data row4 col0\" >capped_tvt</td>\n",
       "                        <td id=\"T_a0035464_6c9a_11eb_8dc9_721b9894d22erow4_col1\" class=\"data row4 col1\" >COX</td>\n",
       "                        <td id=\"T_a0035464_6c9a_11eb_8dc9_721b9894d22erow4_col2\" class=\"data row4 col2\" >250823</td>\n",
       "                        <td id=\"T_a0035464_6c9a_11eb_8dc9_721b9894d22erow4_col3\" class=\"data row4 col3\" >3.385</td>\n",
       "                        <td id=\"T_a0035464_6c9a_11eb_8dc9_721b9894d22erow4_col4\" class=\"data row4 col4\" >5.039</td>\n",
       "                        <td id=\"T_a0035464_6c9a_11eb_8dc9_721b9894d22erow4_col5\" class=\"data row4 col5\" >347892.000</td>\n",
       "                        <td id=\"T_a0035464_6c9a_11eb_8dc9_721b9894d22erow4_col6\" class=\"data row4 col6\" >5.548</td>\n",
       "            </tr>\n",
       "            <tr>\n",
       "                                <td id=\"T_a0035464_6c9a_11eb_8dc9_721b9894d22erow5_col0\" class=\"data row5 col0\" >capped_tvt</td>\n",
       "                        <td id=\"T_a0035464_6c9a_11eb_8dc9_721b9894d22erow5_col1\" class=\"data row5 col1\" >IPAD</td>\n",
       "                        <td id=\"T_a0035464_6c9a_11eb_8dc9_721b9894d22erow5_col2\" class=\"data row5 col2\" >571331</td>\n",
       "                        <td id=\"T_a0035464_6c9a_11eb_8dc9_721b9894d22erow5_col3\" class=\"data row5 col3\" >1.588</td>\n",
       "                        <td id=\"T_a0035464_6c9a_11eb_8dc9_721b9894d22erow5_col4\" class=\"data row5 col4\" >3.678</td>\n",
       "                        <td id=\"T_a0035464_6c9a_11eb_8dc9_721b9894d22erow5_col5\" class=\"data row5 col5\" >841686.000</td>\n",
       "                        <td id=\"T_a0035464_6c9a_11eb_8dc9_721b9894d22erow5_col6\" class=\"data row5 col6\" >5.893</td>\n",
       "            </tr>\n",
       "            <tr>\n",
       "                                <td id=\"T_a0035464_6c9a_11eb_8dc9_721b9894d22erow6_col0\" class=\"data row6 col0\" >capped_tvt</td>\n",
       "                        <td id=\"T_a0035464_6c9a_11eb_8dc9_721b9894d22erow6_col1\" class=\"data row6 col1\" >IPHONE</td>\n",
       "                        <td id=\"T_a0035464_6c9a_11eb_8dc9_721b9894d22erow6_col2\" class=\"data row6 col2\" >3433708</td>\n",
       "                        <td id=\"T_a0035464_6c9a_11eb_8dc9_721b9894d22erow6_col3\" class=\"data row6 col3\" >0.791</td>\n",
       "                        <td id=\"T_a0035464_6c9a_11eb_8dc9_721b9894d22erow6_col4\" class=\"data row6 col4\" >2.491</td>\n",
       "                        <td id=\"T_a0035464_6c9a_11eb_8dc9_721b9894d22erow6_col5\" class=\"data row6 col5\" >1555674.000</td>\n",
       "                        <td id=\"T_a0035464_6c9a_11eb_8dc9_721b9894d22erow6_col6\" class=\"data row6 col6\" >1.812</td>\n",
       "            </tr>\n",
       "            <tr>\n",
       "                                <td id=\"T_a0035464_6c9a_11eb_8dc9_721b9894d22erow7_col0\" class=\"data row7 col0\" >capped_tvt</td>\n",
       "                        <td id=\"T_a0035464_6c9a_11eb_8dc9_721b9894d22erow7_col1\" class=\"data row7 col1\" >MOBILE</td>\n",
       "                        <td id=\"T_a0035464_6c9a_11eb_8dc9_721b9894d22erow7_col2\" class=\"data row7 col2\" >11125461</td>\n",
       "                        <td id=\"T_a0035464_6c9a_11eb_8dc9_721b9894d22erow7_col3\" class=\"data row7 col3\" >1.236</td>\n",
       "                        <td id=\"T_a0035464_6c9a_11eb_8dc9_721b9894d22erow7_col4\" class=\"data row7 col4\" >3.284</td>\n",
       "                        <td id=\"T_a0035464_6c9a_11eb_8dc9_721b9894d22erow7_col5\" class=\"data row7 col5\" >1107785.000</td>\n",
       "                        <td id=\"T_a0035464_6c9a_11eb_8dc9_721b9894d22erow7_col6\" class=\"data row7 col6\" >0.398</td>\n",
       "            </tr>\n",
       "            <tr>\n",
       "                                <td id=\"T_a0035464_6c9a_11eb_8dc9_721b9894d22erow8_col0\" class=\"data row8 col0\" >capped_tvt</td>\n",
       "                        <td id=\"T_a0035464_6c9a_11eb_8dc9_721b9894d22erow8_col1\" class=\"data row8 col1\" >OTT</td>\n",
       "                        <td id=\"T_a0035464_6c9a_11eb_8dc9_721b9894d22erow8_col2\" class=\"data row8 col2\" >20103202</td>\n",
       "                        <td id=\"T_a0035464_6c9a_11eb_8dc9_721b9894d22erow8_col3\" class=\"data row8 col3\" >3.192</td>\n",
       "                        <td id=\"T_a0035464_6c9a_11eb_8dc9_721b9894d22erow8_col4\" class=\"data row8 col4\" >5.429</td>\n",
       "                        <td id=\"T_a0035464_6c9a_11eb_8dc9_721b9894d22erow8_col5\" class=\"data row8 col5\" >453923.000</td>\n",
       "                        <td id=\"T_a0035464_6c9a_11eb_8dc9_721b9894d22erow8_col6\" class=\"data row8 col6\" >0.090</td>\n",
       "            </tr>\n",
       "            <tr>\n",
       "                                <td id=\"T_a0035464_6c9a_11eb_8dc9_721b9894d22erow9_col0\" class=\"data row9 col0\" >capped_tvt</td>\n",
       "                        <td id=\"T_a0035464_6c9a_11eb_8dc9_721b9894d22erow9_col1\" class=\"data row9 col1\" >PS4</td>\n",
       "                        <td id=\"T_a0035464_6c9a_11eb_8dc9_721b9894d22erow9_col2\" class=\"data row9 col2\" >543675</td>\n",
       "                        <td id=\"T_a0035464_6c9a_11eb_8dc9_721b9894d22erow9_col3\" class=\"data row9 col3\" >2.865</td>\n",
       "                        <td id=\"T_a0035464_6c9a_11eb_8dc9_721b9894d22erow9_col4\" class=\"data row9 col4\" >5.392</td>\n",
       "                        <td id=\"T_a0035464_6c9a_11eb_8dc9_721b9894d22erow9_col5\" class=\"data row9 col5\" >555882.000</td>\n",
       "                        <td id=\"T_a0035464_6c9a_11eb_8dc9_721b9894d22erow9_col6\" class=\"data row9 col6\" >4.090</td>\n",
       "            </tr>\n",
       "            <tr>\n",
       "                                <td id=\"T_a0035464_6c9a_11eb_8dc9_721b9894d22erow10_col0\" class=\"data row10 col0\" >capped_tvt</td>\n",
       "                        <td id=\"T_a0035464_6c9a_11eb_8dc9_721b9894d22erow10_col1\" class=\"data row10 col1\" >ROKU</td>\n",
       "                        <td id=\"T_a0035464_6c9a_11eb_8dc9_721b9894d22erow10_col2\" class=\"data row10 col2\" >7088399</td>\n",
       "                        <td id=\"T_a0035464_6c9a_11eb_8dc9_721b9894d22erow10_col3\" class=\"data row10 col3\" >3.791</td>\n",
       "                        <td id=\"T_a0035464_6c9a_11eb_8dc9_721b9894d22erow10_col4\" class=\"data row10 col4\" >5.835</td>\n",
       "                        <td id=\"T_a0035464_6c9a_11eb_8dc9_721b9894d22erow10_col5\" class=\"data row10 col5\" >371829.000</td>\n",
       "                        <td id=\"T_a0035464_6c9a_11eb_8dc9_721b9894d22erow10_col6\" class=\"data row10 col6\" >0.210</td>\n",
       "            </tr>\n",
       "            <tr>\n",
       "                                <td id=\"T_a0035464_6c9a_11eb_8dc9_721b9894d22erow11_col0\" class=\"data row11 col0\" >capped_tvt</td>\n",
       "                        <td id=\"T_a0035464_6c9a_11eb_8dc9_721b9894d22erow11_col1\" class=\"data row11 col1\" >SAMSUNG</td>\n",
       "                        <td id=\"T_a0035464_6c9a_11eb_8dc9_721b9894d22erow11_col2\" class=\"data row11 col2\" >2130266</td>\n",
       "                        <td id=\"T_a0035464_6c9a_11eb_8dc9_721b9894d22erow11_col3\" class=\"data row11 col3\" >1.773</td>\n",
       "                        <td id=\"T_a0035464_6c9a_11eb_8dc9_721b9894d22erow11_col4\" class=\"data row11 col4\" >3.984</td>\n",
       "                        <td id=\"T_a0035464_6c9a_11eb_8dc9_721b9894d22erow11_col5\" class=\"data row11 col5\" >792427.000</td>\n",
       "                        <td id=\"T_a0035464_6c9a_11eb_8dc9_721b9894d22erow11_col6\" class=\"data row11 col6\" >1.488</td>\n",
       "            </tr>\n",
       "            <tr>\n",
       "                                <td id=\"T_a0035464_6c9a_11eb_8dc9_721b9894d22erow12_col0\" class=\"data row12 col0\" >capped_tvt</td>\n",
       "                        <td id=\"T_a0035464_6c9a_11eb_8dc9_721b9894d22erow12_col1\" class=\"data row12 col1\" >SONY</td>\n",
       "                        <td id=\"T_a0035464_6c9a_11eb_8dc9_721b9894d22erow12_col2\" class=\"data row12 col2\" >158126</td>\n",
       "                        <td id=\"T_a0035464_6c9a_11eb_8dc9_721b9894d22erow12_col3\" class=\"data row12 col3\" >3.047</td>\n",
       "                        <td id=\"T_a0035464_6c9a_11eb_8dc9_721b9894d22erow12_col4\" class=\"data row12 col4\" >5.625</td>\n",
       "                        <td id=\"T_a0035464_6c9a_11eb_8dc9_721b9894d22erow12_col5\" class=\"data row12 col5\" >534945.000</td>\n",
       "                        <td id=\"T_a0035464_6c9a_11eb_8dc9_721b9894d22erow12_col6\" class=\"data row12 col6\" >13.532</td>\n",
       "            </tr>\n",
       "            <tr>\n",
       "                                <td id=\"T_a0035464_6c9a_11eb_8dc9_721b9894d22erow13_col0\" class=\"data row13 col0\" >capped_tvt</td>\n",
       "                        <td id=\"T_a0035464_6c9a_11eb_8dc9_721b9894d22erow13_col1\" class=\"data row13 col1\" >VIZIO</td>\n",
       "                        <td id=\"T_a0035464_6c9a_11eb_8dc9_721b9894d22erow13_col2\" class=\"data row13 col2\" >1393759</td>\n",
       "                        <td id=\"T_a0035464_6c9a_11eb_8dc9_721b9894d22erow13_col3\" class=\"data row13 col3\" >1.828</td>\n",
       "                        <td id=\"T_a0035464_6c9a_11eb_8dc9_721b9894d22erow13_col4\" class=\"data row13 col4\" >3.964</td>\n",
       "                        <td id=\"T_a0035464_6c9a_11eb_8dc9_721b9894d22erow13_col5\" class=\"data row13 col5\" >738265.000</td>\n",
       "                        <td id=\"T_a0035464_6c9a_11eb_8dc9_721b9894d22erow13_col6\" class=\"data row13 col6\" >2.119</td>\n",
       "            </tr>\n",
       "            <tr>\n",
       "                                <td id=\"T_a0035464_6c9a_11eb_8dc9_721b9894d22erow14_col0\" class=\"data row14 col0\" >capped_tvt</td>\n",
       "                        <td id=\"T_a0035464_6c9a_11eb_8dc9_721b9894d22erow14_col1\" class=\"data row14 col1\" >WEB</td>\n",
       "                        <td id=\"T_a0035464_6c9a_11eb_8dc9_721b9894d22erow14_col2\" class=\"data row14 col2\" >6429425</td>\n",
       "                        <td id=\"T_a0035464_6c9a_11eb_8dc9_721b9894d22erow14_col3\" class=\"data row14 col3\" >0.474</td>\n",
       "                        <td id=\"T_a0035464_6c9a_11eb_8dc9_721b9894d22erow14_col4\" class=\"data row14 col4\" >2.233</td>\n",
       "                        <td id=\"T_a0035464_6c9a_11eb_8dc9_721b9894d22erow14_col5\" class=\"data row14 col5\" >3486726.000</td>\n",
       "                        <td id=\"T_a0035464_6c9a_11eb_8dc9_721b9894d22erow14_col6\" class=\"data row14 col6\" >2.169</td>\n",
       "            </tr>\n",
       "            <tr>\n",
       "                                <td id=\"T_a0035464_6c9a_11eb_8dc9_721b9894d22erow15_col0\" class=\"data row15 col0\" >capped_tvt</td>\n",
       "                        <td id=\"T_a0035464_6c9a_11eb_8dc9_721b9894d22erow15_col1\" class=\"data row15 col1\" >XBOXONE</td>\n",
       "                        <td id=\"T_a0035464_6c9a_11eb_8dc9_721b9894d22erow15_col2\" class=\"data row15 col2\" >408131</td>\n",
       "                        <td id=\"T_a0035464_6c9a_11eb_8dc9_721b9894d22erow15_col3\" class=\"data row15 col3\" >3.672</td>\n",
       "                        <td id=\"T_a0035464_6c9a_11eb_8dc9_721b9894d22erow15_col4\" class=\"data row15 col4\" >6.345</td>\n",
       "                        <td id=\"T_a0035464_6c9a_11eb_8dc9_721b9894d22erow15_col5\" class=\"data row15 col5\" >468786.000</td>\n",
       "                        <td id=\"T_a0035464_6c9a_11eb_8dc9_721b9894d22erow15_col6\" class=\"data row15 col6\" >4.594</td>\n",
       "            </tr>\n",
       "    </tbody></table>"
      ],
      "text/plain": [
       "<pandas.io.formats.style.Styler at 0x7fcd1d46fdd0>"
      ]
     },
     "execution_count": 9,
     "metadata": {},
     "output_type": "execute_result"
    }
   ],
   "source": [
    "import warnings\n",
    "from statsmodels.tools.sm_exceptions import ConvergenceWarning\n",
    "warnings.simplefilter('ignore', ConvergenceWarning)\n",
    "\n",
    "# ---------- Constants ---------- # \n",
    "COL_NAME_P = 'avg_cuped_result'\n",
    "STD_COL_NAME = 'std_cuped_result'\n",
    "RATIO = 1\n",
    "SAMPLING = 1  # TODO: make this dynamic between 1 and 1000 for sampled analytics\n",
    "\n",
    "CORRECTED_ALPHA = ALPHA.result / NUMBER_VARIATIONS.result\n",
    "P2_MULTIPLICATIVE_FACTOR =  1 + EFFECT_SIZE_RELATIVE.result\n",
    "\n",
    "# ---------- Implementation ---------- #\n",
    "df['sample_required'] =  df.apply(lambda row: c.sample_power_ttest(\n",
    "    p1 = row[COL_NAME_P],\n",
    "    p2 = row[COL_NAME_P] * P2_MULTIPLICATIVE_FACTOR,\n",
    "    sd_diff = row[STD_COL_NAME],\n",
    "    alpha = CORRECTED_ALPHA,\n",
    "    power = POWER.result,\n",
    "    ratio = RATIO)\n",
    "                                  , axis=1)\n",
    "\n",
    "df['weeks_required'] = np.divide(df['sample_required'], (df['observations'] * 0.5 * ALLOCATION.result * SAMPLING))\n",
    "df['sample_required'] = df['sample_required'].astype('float')\n",
    "df['weeks_required'] = df['weeks_required'].astype('float')\n",
    "\n",
    "df.sort_values('platform').style\\\n",
    "    .hide_index()\\\n",
    "    .set_precision(3)\\\n",
    "    "
   ]
  }
 ],
 "metadata": {
  "kernelspec": {
   "display_name": "Python 3",
   "language": "python",
   "name": "python3"
  },
  "language_info": {
   "codemirror_mode": {
    "name": "ipython",
    "version": 3
   },
   "file_extension": ".py",
   "mimetype": "text/x-python",
   "name": "python",
   "nbconvert_exporter": "python",
   "pygments_lexer": "ipython3",
   "version": "3.7.4"
  }
 },
 "nbformat": 4,
 "nbformat_minor": 4
}
